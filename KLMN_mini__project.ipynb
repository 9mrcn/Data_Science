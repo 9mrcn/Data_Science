{
  "nbformat": 4,
  "nbformat_minor": 0,
  "metadata": {
    "colab": {
      "provenance": [],
      "authorship_tag": "ABX9TyPgNSOMD+6reQjVFhxQ9cjp",
      "include_colab_link": true
    },
    "kernelspec": {
      "name": "python3",
      "display_name": "Python 3"
    },
    "language_info": {
      "name": "python"
    }
  },
  "cells": [
    {
      "cell_type": "markdown",
      "metadata": {
        "id": "view-in-github",
        "colab_type": "text"
      },
      "source": [
        "<a href=\"https://colab.research.google.com/github/9mrcn/Data_Science/blob/master/KLMN_mini__project.ipynb\" target=\"_parent\"><img src=\"https://colab.research.google.com/assets/colab-badge.svg\" alt=\"Open In Colab\"/></a>"
      ]
    },
    {
      "cell_type": "markdown",
      "source": [
        "__PL:__\n",
        "\n",
        "Kanał KLMN z Los Angeles wyświetla cotygodniowy krajowy serwis informacyjny \"US Politics This Week\". W reklamie programu występuje burmistrz Los Angeles. Data scientist pracujący w KLMN zauważył, że spośród ludzi którzy obejrzeli reklamę \"US Politics This Week\", a następnie program jest duża więcej ludzi z Los Angeles niż z innych miast. Przedstawił ten fakt producentom \"US Politics This Week\"\n",
        "\n",
        "Producenci \"US Politics This Week\" wpadli na pomysł, aby stworzyć osobne reklamy dla największych miast z USA wraz z burmistrzami tych miast (czyli reklama w Nowym Jorku będzie z burmistrzem Nowego Jorku). Po stworzeniu reklam były one wyświetlane w odpowiednich miastach wraz ze starą reklamą (z burmistrzem LA) we wszystkich miastach.\n",
        "\n",
        "Po wykonaniu eksperymentu data scientist zauważył negatywny wynik - mniejsza część ludzi która zobaczyła reklamę ze swoim burmistrzem obejrzała \"US Politics This Week\" w porównaniu do ludzi którzy zobaczyli reklamę z burmistrzem Los Angeles. Twoim zadaniem jest pomóc w zrozumieniu tego problemu.\n",
        "\n",
        "Spróbuj odtworzyć negatywny wynik eskperymentu, oraz wytłumacz skąd się on bierze - czy reklamy z lokalnym burmistrzem faktycznie przyciągają mniej ludzi niż z burmistrzem Los Angeles?\n",
        "\n",
        "Informacje o zbiorze danych:\n",
        "\n",
        "`test_data.csv`:\n",
        "\n",
        "- `viewer_id` - id użytkownika\n",
        "- `date` - data obejrzenia reklamy \"US Politics This Week\"\n",
        "- `tv_make` - producent telewizora\n",
        "- `tv_size` - rozmiar telewizora\n",
        "- `uhd_capable` - czy telewizor wyświetla obraz w jakość UHD\n",
        "- `total_time_watched` - suma czasu oglądania telewizji (w godzinach) przez użytkownika w dzień w którym obejrzał reklamę\n",
        "- `watched` - czy użytkownik obejrzał \"US Politics This Week\" po obejrzeniu reklamy\n",
        "- `test` - użytkownicy są podzieleni na dwie grupy - test (1) i control (0), grupa testowa obejrzała reklamy z lokalnym burmistrzem, grupa kontrolna widziała reklamę z burmistrzem LA\n",
        "\n",
        "`viewer_data.csv`:\n",
        "\n",
        "- `viewer_id` - id użytkownika\n",
        "- `gender` - płeć użytkownika\n",
        "- `age` - wiek użytkownika\n",
        "- `city` - miasto użytkownika"
      ],
      "metadata": {
        "id": "HVL3qBanuSvJ"
      }
    },
    {
      "cell_type": "markdown",
      "source": [
        "__EN (Google Translate):__\n",
        "\n",
        "The Los Angeles-based KLMN channel hosts the weekly national news site \"US Politics This Week\". The Mayor of Los Angeles stars in an advertisement for the show. A KLMN data scientist noticed that of the people who saw the US Politics This Week ad and then the program, there are many more people from Los Angeles than from other cities. He presented this fact to the producers of \"US Politics This Week\"\n",
        "\n",
        "The producers of \"US Politics This Week\" came up with the idea to create separate advertisements for the largest US cities together with the mayors of these cities (ie the advertisement in New York will be with the mayor of New York). After the ads were created, they were displayed in the respective cities along with the old ad (with the LA mayor) in all the cities.\n",
        "\n",
        "After running the experiment, the data scientist noticed a negative result - a smaller proportion of people who saw the ad with their mayor watched US Politics This Week compared to people who saw the ad with the mayor of Los Angeles. It is your job to help understand this problem.\n",
        "\n",
        "Try to recreate the negative result of the experiment, and explain where it comes from - do ads with the local mayor actually attract fewer people than with the mayor of Los Angeles?\n",
        "\n",
        "Information about the dataset:\n",
        "\n",
        "`test_data.csv`:\n",
        "\n",
        "- `viewer_id` - user id\n",
        "- `date` - date of viewing the ad \"US Politics This Week\"\n",
        "- `tv_make` - TV producer\n",
        "- `tv_size` - TV size\n",
        "- `uhd_capable` - whether the TV displays the image in UHD quality\n",
        "- `total_time_watched` - the sum of the user's viewing time (in hours) on the day when the advertisement was watched\n",
        "- `watched` - whether the user watched \"US Politics This Week\" after viewing the ad\n",
        "- `test` - users are divided into two groups - test (1) and control (0), the test group saw advertisements with the local mayor, the control group saw an advertisement with the LA mayor\n",
        "\n",
        "`viewer_data.csv`:\n",
        "\n",
        "- `viewer_id` - user id\n",
        "- `gender` - the gender of the user\n",
        "- `age` - user's age\n",
        "- `city` - user's city"
      ],
      "metadata": {
        "id": "EZx4gZ80uyMU"
      }
    },
    {
      "cell_type": "markdown",
      "source": [
        "# Loading data and needed libraries"
      ],
      "metadata": {
        "id": "UyZiYcc1vreh"
      }
    },
    {
      "cell_type": "code",
      "source": [
        "import pandas as pd\n",
        "import numpy as np\n",
        "from scipy import stats\n",
        "import seaborn as sns\n",
        "from matplotlib import pyplot as plt"
      ],
      "metadata": {
        "id": "f7w6VWPfveAe"
      },
      "execution_count": 2,
      "outputs": []
    },
    {
      "cell_type": "code",
      "source": [
        "test_df = pd.read_csv('https://raw.githubusercontent.com/9mrcn/Data_Science/master/data/KLMN_test_data.csv')\n",
        "viewers_df = pd.read_csv('https://raw.githubusercontent.com/9mrcn/Data_Science/master/data/KLMN_viewer_data.csv')"
      ],
      "metadata": {
        "id": "2Jc8wqDZ6QWo"
      },
      "execution_count": 4,
      "outputs": []
    },
    {
      "cell_type": "code",
      "source": [
        "print('test_df len:', len(test_df['viewer_id']))\n",
        "print('viewers_df len:', len(viewers_df['viewer_id']))"
      ],
      "metadata": {
        "colab": {
          "base_uri": "https://localhost:8080/"
        },
        "id": "PaC5zz1r7AzO",
        "outputId": "494bbc9a-dd11-4668-b165-8da05c46dc7f"
      },
      "execution_count": 6,
      "outputs": [
        {
          "output_type": "stream",
          "name": "stdout",
          "text": [
            "test_df len: 418026\n",
            "viewers_df len: 417464\n"
          ]
        }
      ]
    },
    {
      "cell_type": "markdown",
      "source": [
        "Different number of records in databases. We only want complete records with no missing data. To get this we use inner join."
      ],
      "metadata": {
        "id": "631CroMK7VB3"
      }
    },
    {
      "cell_type": "code",
      "source": [
        "data_df = test_df.merge(viewers_df, on='viewer_id', indicator=True)"
      ],
      "metadata": {
        "id": "L1I0N_lt-L7s"
      },
      "execution_count": 7,
      "outputs": []
    },
    {
      "cell_type": "markdown",
      "source": [
        "We divide data_df into a exposed group and a control group"
      ],
      "metadata": {
        "id": "zWm5vNEb-gkL"
      }
    },
    {
      "cell_type": "code",
      "source": [
        "control_df = data_df[data_df['test']==0]\n",
        "exposed_df = data_df[data_df['test']==1]"
      ],
      "metadata": {
        "id": "j3a74zzJ-XwP"
      },
      "execution_count": 8,
      "outputs": []
    },
    {
      "cell_type": "markdown",
      "source": [
        "We want the groups to be independent of each other, so we check whether both data sets have duplicate records."
      ],
      "metadata": {
        "id": "KLXQQ8Bw-ov-"
      }
    },
    {
      "cell_type": "code",
      "source": [
        "control_df.merge(exposed_df, on='viewer_id')"
      ],
      "metadata": {
        "colab": {
          "base_uri": "https://localhost:8080/",
          "height": 143
        },
        "id": "SoWgV6NW-8Sx",
        "outputId": "babc482c-588f-4579-bfb5-5674542311ea"
      },
      "execution_count": 9,
      "outputs": [
        {
          "output_type": "execute_result",
          "data": {
            "text/plain": [
              "Empty DataFrame\n",
              "Columns: [viewer_id, date_x, tv_make_x, tv_size_x, uhd_capable_x, tv_provider_x, total_time_watched_x, watched_x, test_x, gender_x, age_x, city_x, _merge_x, date_y, tv_make_y, tv_size_y, uhd_capable_y, tv_provider_y, total_time_watched_y, watched_y, test_y, gender_y, age_y, city_y, _merge_y]\n",
              "Index: []\n",
              "\n",
              "[0 rows x 25 columns]"
            ],
            "text/html": [
              "\n",
              "  <div id=\"df-b76c05d9-5ef8-4e0e-91ee-111644658fb5\">\n",
              "    <div class=\"colab-df-container\">\n",
              "      <div>\n",
              "<style scoped>\n",
              "    .dataframe tbody tr th:only-of-type {\n",
              "        vertical-align: middle;\n",
              "    }\n",
              "\n",
              "    .dataframe tbody tr th {\n",
              "        vertical-align: top;\n",
              "    }\n",
              "\n",
              "    .dataframe thead th {\n",
              "        text-align: right;\n",
              "    }\n",
              "</style>\n",
              "<table border=\"1\" class=\"dataframe\">\n",
              "  <thead>\n",
              "    <tr style=\"text-align: right;\">\n",
              "      <th></th>\n",
              "      <th>viewer_id</th>\n",
              "      <th>date_x</th>\n",
              "      <th>tv_make_x</th>\n",
              "      <th>tv_size_x</th>\n",
              "      <th>uhd_capable_x</th>\n",
              "      <th>tv_provider_x</th>\n",
              "      <th>total_time_watched_x</th>\n",
              "      <th>watched_x</th>\n",
              "      <th>test_x</th>\n",
              "      <th>gender_x</th>\n",
              "      <th>...</th>\n",
              "      <th>tv_size_y</th>\n",
              "      <th>uhd_capable_y</th>\n",
              "      <th>tv_provider_y</th>\n",
              "      <th>total_time_watched_y</th>\n",
              "      <th>watched_y</th>\n",
              "      <th>test_y</th>\n",
              "      <th>gender_y</th>\n",
              "      <th>age_y</th>\n",
              "      <th>city_y</th>\n",
              "      <th>_merge_y</th>\n",
              "    </tr>\n",
              "  </thead>\n",
              "  <tbody>\n",
              "  </tbody>\n",
              "</table>\n",
              "<p>0 rows × 25 columns</p>\n",
              "</div>\n",
              "      <button class=\"colab-df-convert\" onclick=\"convertToInteractive('df-b76c05d9-5ef8-4e0e-91ee-111644658fb5')\"\n",
              "              title=\"Convert this dataframe to an interactive table.\"\n",
              "              style=\"display:none;\">\n",
              "        \n",
              "  <svg xmlns=\"http://www.w3.org/2000/svg\" height=\"24px\"viewBox=\"0 0 24 24\"\n",
              "       width=\"24px\">\n",
              "    <path d=\"M0 0h24v24H0V0z\" fill=\"none\"/>\n",
              "    <path d=\"M18.56 5.44l.94 2.06.94-2.06 2.06-.94-2.06-.94-.94-2.06-.94 2.06-2.06.94zm-11 1L8.5 8.5l.94-2.06 2.06-.94-2.06-.94L8.5 2.5l-.94 2.06-2.06.94zm10 10l.94 2.06.94-2.06 2.06-.94-2.06-.94-.94-2.06-.94 2.06-2.06.94z\"/><path d=\"M17.41 7.96l-1.37-1.37c-.4-.4-.92-.59-1.43-.59-.52 0-1.04.2-1.43.59L10.3 9.45l-7.72 7.72c-.78.78-.78 2.05 0 2.83L4 21.41c.39.39.9.59 1.41.59.51 0 1.02-.2 1.41-.59l7.78-7.78 2.81-2.81c.8-.78.8-2.07 0-2.86zM5.41 20L4 18.59l7.72-7.72 1.47 1.35L5.41 20z\"/>\n",
              "  </svg>\n",
              "      </button>\n",
              "      \n",
              "  <style>\n",
              "    .colab-df-container {\n",
              "      display:flex;\n",
              "      flex-wrap:wrap;\n",
              "      gap: 12px;\n",
              "    }\n",
              "\n",
              "    .colab-df-convert {\n",
              "      background-color: #E8F0FE;\n",
              "      border: none;\n",
              "      border-radius: 50%;\n",
              "      cursor: pointer;\n",
              "      display: none;\n",
              "      fill: #1967D2;\n",
              "      height: 32px;\n",
              "      padding: 0 0 0 0;\n",
              "      width: 32px;\n",
              "    }\n",
              "\n",
              "    .colab-df-convert:hover {\n",
              "      background-color: #E2EBFA;\n",
              "      box-shadow: 0px 1px 2px rgba(60, 64, 67, 0.3), 0px 1px 3px 1px rgba(60, 64, 67, 0.15);\n",
              "      fill: #174EA6;\n",
              "    }\n",
              "\n",
              "    [theme=dark] .colab-df-convert {\n",
              "      background-color: #3B4455;\n",
              "      fill: #D2E3FC;\n",
              "    }\n",
              "\n",
              "    [theme=dark] .colab-df-convert:hover {\n",
              "      background-color: #434B5C;\n",
              "      box-shadow: 0px 1px 3px 1px rgba(0, 0, 0, 0.15);\n",
              "      filter: drop-shadow(0px 1px 2px rgba(0, 0, 0, 0.3));\n",
              "      fill: #FFFFFF;\n",
              "    }\n",
              "  </style>\n",
              "\n",
              "      <script>\n",
              "        const buttonEl =\n",
              "          document.querySelector('#df-b76c05d9-5ef8-4e0e-91ee-111644658fb5 button.colab-df-convert');\n",
              "        buttonEl.style.display =\n",
              "          google.colab.kernel.accessAllowed ? 'block' : 'none';\n",
              "\n",
              "        async function convertToInteractive(key) {\n",
              "          const element = document.querySelector('#df-b76c05d9-5ef8-4e0e-91ee-111644658fb5');\n",
              "          const dataTable =\n",
              "            await google.colab.kernel.invokeFunction('convertToInteractive',\n",
              "                                                     [key], {});\n",
              "          if (!dataTable) return;\n",
              "\n",
              "          const docLinkHtml = 'Like what you see? Visit the ' +\n",
              "            '<a target=\"_blank\" href=https://colab.research.google.com/notebooks/data_table.ipynb>data table notebook</a>'\n",
              "            + ' to learn more about interactive tables.';\n",
              "          element.innerHTML = '';\n",
              "          dataTable['output_type'] = 'display_data';\n",
              "          await google.colab.output.renderOutput(dataTable, element);\n",
              "          const docLink = document.createElement('div');\n",
              "          docLink.innerHTML = docLinkHtml;\n",
              "          element.appendChild(docLink);\n",
              "        }\n",
              "      </script>\n",
              "    </div>\n",
              "  </div>\n",
              "  "
            ]
          },
          "metadata": {},
          "execution_count": 9
        }
      ]
    },
    {
      "cell_type": "markdown",
      "source": [
        "0 rows - there is no `viewer_id` that would be included in both groups at the same time"
      ],
      "metadata": {
        "id": "gtmJHsi0_eIq"
      }
    },
    {
      "cell_type": "code",
      "source": [
        "exposed_df.groupby('test')['watched'].agg(['mean', 'std'])"
      ],
      "metadata": {
        "colab": {
          "base_uri": "https://localhost:8080/",
          "height": 112
        },
        "id": "Rsc2qMw0-__J",
        "outputId": "5f31c266-8f08-4eac-f4fa-708c7cb023fe"
      },
      "execution_count": 10,
      "outputs": [
        {
          "output_type": "execute_result",
          "data": {
            "text/plain": [
              "         mean       std\n",
              "test                   \n",
              "1     0.04578  0.209007"
            ],
            "text/html": [
              "\n",
              "  <div id=\"df-4f340caa-6ef2-427c-8225-725953c49604\">\n",
              "    <div class=\"colab-df-container\">\n",
              "      <div>\n",
              "<style scoped>\n",
              "    .dataframe tbody tr th:only-of-type {\n",
              "        vertical-align: middle;\n",
              "    }\n",
              "\n",
              "    .dataframe tbody tr th {\n",
              "        vertical-align: top;\n",
              "    }\n",
              "\n",
              "    .dataframe thead th {\n",
              "        text-align: right;\n",
              "    }\n",
              "</style>\n",
              "<table border=\"1\" class=\"dataframe\">\n",
              "  <thead>\n",
              "    <tr style=\"text-align: right;\">\n",
              "      <th></th>\n",
              "      <th>mean</th>\n",
              "      <th>std</th>\n",
              "    </tr>\n",
              "    <tr>\n",
              "      <th>test</th>\n",
              "      <th></th>\n",
              "      <th></th>\n",
              "    </tr>\n",
              "  </thead>\n",
              "  <tbody>\n",
              "    <tr>\n",
              "      <th>1</th>\n",
              "      <td>0.04578</td>\n",
              "      <td>0.209007</td>\n",
              "    </tr>\n",
              "  </tbody>\n",
              "</table>\n",
              "</div>\n",
              "      <button class=\"colab-df-convert\" onclick=\"convertToInteractive('df-4f340caa-6ef2-427c-8225-725953c49604')\"\n",
              "              title=\"Convert this dataframe to an interactive table.\"\n",
              "              style=\"display:none;\">\n",
              "        \n",
              "  <svg xmlns=\"http://www.w3.org/2000/svg\" height=\"24px\"viewBox=\"0 0 24 24\"\n",
              "       width=\"24px\">\n",
              "    <path d=\"M0 0h24v24H0V0z\" fill=\"none\"/>\n",
              "    <path d=\"M18.56 5.44l.94 2.06.94-2.06 2.06-.94-2.06-.94-.94-2.06-.94 2.06-2.06.94zm-11 1L8.5 8.5l.94-2.06 2.06-.94-2.06-.94L8.5 2.5l-.94 2.06-2.06.94zm10 10l.94 2.06.94-2.06 2.06-.94-2.06-.94-.94-2.06-.94 2.06-2.06.94z\"/><path d=\"M17.41 7.96l-1.37-1.37c-.4-.4-.92-.59-1.43-.59-.52 0-1.04.2-1.43.59L10.3 9.45l-7.72 7.72c-.78.78-.78 2.05 0 2.83L4 21.41c.39.39.9.59 1.41.59.51 0 1.02-.2 1.41-.59l7.78-7.78 2.81-2.81c.8-.78.8-2.07 0-2.86zM5.41 20L4 18.59l7.72-7.72 1.47 1.35L5.41 20z\"/>\n",
              "  </svg>\n",
              "      </button>\n",
              "      \n",
              "  <style>\n",
              "    .colab-df-container {\n",
              "      display:flex;\n",
              "      flex-wrap:wrap;\n",
              "      gap: 12px;\n",
              "    }\n",
              "\n",
              "    .colab-df-convert {\n",
              "      background-color: #E8F0FE;\n",
              "      border: none;\n",
              "      border-radius: 50%;\n",
              "      cursor: pointer;\n",
              "      display: none;\n",
              "      fill: #1967D2;\n",
              "      height: 32px;\n",
              "      padding: 0 0 0 0;\n",
              "      width: 32px;\n",
              "    }\n",
              "\n",
              "    .colab-df-convert:hover {\n",
              "      background-color: #E2EBFA;\n",
              "      box-shadow: 0px 1px 2px rgba(60, 64, 67, 0.3), 0px 1px 3px 1px rgba(60, 64, 67, 0.15);\n",
              "      fill: #174EA6;\n",
              "    }\n",
              "\n",
              "    [theme=dark] .colab-df-convert {\n",
              "      background-color: #3B4455;\n",
              "      fill: #D2E3FC;\n",
              "    }\n",
              "\n",
              "    [theme=dark] .colab-df-convert:hover {\n",
              "      background-color: #434B5C;\n",
              "      box-shadow: 0px 1px 3px 1px rgba(0, 0, 0, 0.15);\n",
              "      filter: drop-shadow(0px 1px 2px rgba(0, 0, 0, 0.3));\n",
              "      fill: #FFFFFF;\n",
              "    }\n",
              "  </style>\n",
              "\n",
              "      <script>\n",
              "        const buttonEl =\n",
              "          document.querySelector('#df-4f340caa-6ef2-427c-8225-725953c49604 button.colab-df-convert');\n",
              "        buttonEl.style.display =\n",
              "          google.colab.kernel.accessAllowed ? 'block' : 'none';\n",
              "\n",
              "        async function convertToInteractive(key) {\n",
              "          const element = document.querySelector('#df-4f340caa-6ef2-427c-8225-725953c49604');\n",
              "          const dataTable =\n",
              "            await google.colab.kernel.invokeFunction('convertToInteractive',\n",
              "                                                     [key], {});\n",
              "          if (!dataTable) return;\n",
              "\n",
              "          const docLinkHtml = 'Like what you see? Visit the ' +\n",
              "            '<a target=\"_blank\" href=https://colab.research.google.com/notebooks/data_table.ipynb>data table notebook</a>'\n",
              "            + ' to learn more about interactive tables.';\n",
              "          element.innerHTML = '';\n",
              "          dataTable['output_type'] = 'display_data';\n",
              "          await google.colab.output.renderOutput(dataTable, element);\n",
              "          const docLink = document.createElement('div');\n",
              "          docLink.innerHTML = docLinkHtml;\n",
              "          element.appendChild(docLink);\n",
              "        }\n",
              "      </script>\n",
              "    </div>\n",
              "  </div>\n",
              "  "
            ]
          },
          "metadata": {},
          "execution_count": 10
        }
      ]
    },
    {
      "cell_type": "code",
      "source": [
        "control_df.groupby('test')['watched'].agg(['mean', 'std'])"
      ],
      "metadata": {
        "colab": {
          "base_uri": "https://localhost:8080/",
          "height": 112
        },
        "id": "YyKSlHBx_nIN",
        "outputId": "523a2087-45b0-47aa-a467-69825240e97c"
      },
      "execution_count": 11,
      "outputs": [
        {
          "output_type": "execute_result",
          "data": {
            "text/plain": [
              "          mean       std\n",
              "test                    \n",
              "0     0.063094  0.243132"
            ],
            "text/html": [
              "\n",
              "  <div id=\"df-f7720dbd-64c1-4866-8376-138f32c4442f\">\n",
              "    <div class=\"colab-df-container\">\n",
              "      <div>\n",
              "<style scoped>\n",
              "    .dataframe tbody tr th:only-of-type {\n",
              "        vertical-align: middle;\n",
              "    }\n",
              "\n",
              "    .dataframe tbody tr th {\n",
              "        vertical-align: top;\n",
              "    }\n",
              "\n",
              "    .dataframe thead th {\n",
              "        text-align: right;\n",
              "    }\n",
              "</style>\n",
              "<table border=\"1\" class=\"dataframe\">\n",
              "  <thead>\n",
              "    <tr style=\"text-align: right;\">\n",
              "      <th></th>\n",
              "      <th>mean</th>\n",
              "      <th>std</th>\n",
              "    </tr>\n",
              "    <tr>\n",
              "      <th>test</th>\n",
              "      <th></th>\n",
              "      <th></th>\n",
              "    </tr>\n",
              "  </thead>\n",
              "  <tbody>\n",
              "    <tr>\n",
              "      <th>0</th>\n",
              "      <td>0.063094</td>\n",
              "      <td>0.243132</td>\n",
              "    </tr>\n",
              "  </tbody>\n",
              "</table>\n",
              "</div>\n",
              "      <button class=\"colab-df-convert\" onclick=\"convertToInteractive('df-f7720dbd-64c1-4866-8376-138f32c4442f')\"\n",
              "              title=\"Convert this dataframe to an interactive table.\"\n",
              "              style=\"display:none;\">\n",
              "        \n",
              "  <svg xmlns=\"http://www.w3.org/2000/svg\" height=\"24px\"viewBox=\"0 0 24 24\"\n",
              "       width=\"24px\">\n",
              "    <path d=\"M0 0h24v24H0V0z\" fill=\"none\"/>\n",
              "    <path d=\"M18.56 5.44l.94 2.06.94-2.06 2.06-.94-2.06-.94-.94-2.06-.94 2.06-2.06.94zm-11 1L8.5 8.5l.94-2.06 2.06-.94-2.06-.94L8.5 2.5l-.94 2.06-2.06.94zm10 10l.94 2.06.94-2.06 2.06-.94-2.06-.94-.94-2.06-.94 2.06-2.06.94z\"/><path d=\"M17.41 7.96l-1.37-1.37c-.4-.4-.92-.59-1.43-.59-.52 0-1.04.2-1.43.59L10.3 9.45l-7.72 7.72c-.78.78-.78 2.05 0 2.83L4 21.41c.39.39.9.59 1.41.59.51 0 1.02-.2 1.41-.59l7.78-7.78 2.81-2.81c.8-.78.8-2.07 0-2.86zM5.41 20L4 18.59l7.72-7.72 1.47 1.35L5.41 20z\"/>\n",
              "  </svg>\n",
              "      </button>\n",
              "      \n",
              "  <style>\n",
              "    .colab-df-container {\n",
              "      display:flex;\n",
              "      flex-wrap:wrap;\n",
              "      gap: 12px;\n",
              "    }\n",
              "\n",
              "    .colab-df-convert {\n",
              "      background-color: #E8F0FE;\n",
              "      border: none;\n",
              "      border-radius: 50%;\n",
              "      cursor: pointer;\n",
              "      display: none;\n",
              "      fill: #1967D2;\n",
              "      height: 32px;\n",
              "      padding: 0 0 0 0;\n",
              "      width: 32px;\n",
              "    }\n",
              "\n",
              "    .colab-df-convert:hover {\n",
              "      background-color: #E2EBFA;\n",
              "      box-shadow: 0px 1px 2px rgba(60, 64, 67, 0.3), 0px 1px 3px 1px rgba(60, 64, 67, 0.15);\n",
              "      fill: #174EA6;\n",
              "    }\n",
              "\n",
              "    [theme=dark] .colab-df-convert {\n",
              "      background-color: #3B4455;\n",
              "      fill: #D2E3FC;\n",
              "    }\n",
              "\n",
              "    [theme=dark] .colab-df-convert:hover {\n",
              "      background-color: #434B5C;\n",
              "      box-shadow: 0px 1px 3px 1px rgba(0, 0, 0, 0.15);\n",
              "      filter: drop-shadow(0px 1px 2px rgba(0, 0, 0, 0.3));\n",
              "      fill: #FFFFFF;\n",
              "    }\n",
              "  </style>\n",
              "\n",
              "      <script>\n",
              "        const buttonEl =\n",
              "          document.querySelector('#df-f7720dbd-64c1-4866-8376-138f32c4442f button.colab-df-convert');\n",
              "        buttonEl.style.display =\n",
              "          google.colab.kernel.accessAllowed ? 'block' : 'none';\n",
              "\n",
              "        async function convertToInteractive(key) {\n",
              "          const element = document.querySelector('#df-f7720dbd-64c1-4866-8376-138f32c4442f');\n",
              "          const dataTable =\n",
              "            await google.colab.kernel.invokeFunction('convertToInteractive',\n",
              "                                                     [key], {});\n",
              "          if (!dataTable) return;\n",
              "\n",
              "          const docLinkHtml = 'Like what you see? Visit the ' +\n",
              "            '<a target=\"_blank\" href=https://colab.research.google.com/notebooks/data_table.ipynb>data table notebook</a>'\n",
              "            + ' to learn more about interactive tables.';\n",
              "          element.innerHTML = '';\n",
              "          dataTable['output_type'] = 'display_data';\n",
              "          await google.colab.output.renderOutput(dataTable, element);\n",
              "          const docLink = document.createElement('div');\n",
              "          docLink.innerHTML = docLinkHtml;\n",
              "          element.appendChild(docLink);\n",
              "        }\n",
              "      </script>\n",
              "    </div>\n",
              "  </div>\n",
              "  "
            ]
          },
          "metadata": {},
          "execution_count": 11
        }
      ]
    },
    {
      "cell_type": "code",
      "source": [
        "sns.barplot(x=data_df['test'], y=data_df['watched'])"
      ],
      "metadata": {
        "colab": {
          "base_uri": "https://localhost:8080/",
          "height": 296
        },
        "id": "ywbqaq13_pEk",
        "outputId": "4c80db31-52f2-4869-885b-d36fc63f38e9"
      },
      "execution_count": 12,
      "outputs": [
        {
          "output_type": "execute_result",
          "data": {
            "text/plain": [
              "<matplotlib.axes._subplots.AxesSubplot at 0x7fb15a58bcd0>"
            ]
          },
          "metadata": {},
          "execution_count": 12
        },
        {
          "output_type": "display_data",
          "data": {
            "text/plain": [
              "<Figure size 432x288 with 1 Axes>"
            ],
            "image/png": "[encoded data removed]"
          },
          "metadata": {
            "needs_background": "light"
          }
        }
      ]
    },
    {
      "cell_type": "code",
      "source": [
        "from statsmodels.stats.proportion import proportions_ztest"
      ],
      "metadata": {
        "id": "MKu6ToGZ_6Vq"
      },
      "execution_count": 13,
      "outputs": []
    },
    {
      "cell_type": "code",
      "source": [
        "control_results = control_df['watched']\n",
        "exposed_results = exposed_df['watched']\n",
        "\n",
        "n_cont = control_results.count()\n",
        "n_cont_succ = control_results.sum()\n",
        "n_exp = exposed_results.count()\n",
        "n_exp_succ = exposed_results.sum()"
      ],
      "metadata": {
        "id": "4onQ-ug5ABs2"
      },
      "execution_count": 14,
      "outputs": []
    },
    {
      "cell_type": "markdown",
      "source": [
        "$$ H_0: \\mu_c = \\mu_t $$\n",
        "$$ H_1: \\mu_c < \\mu_t $$"
      ],
      "metadata": {
        "id": "xFQjHYLRAFhN"
      }
    },
    {
      "cell_type": "code",
      "source": [
        "proportions_ztest([n_cont_succ, n_exp_succ], [n_cont, n_exp], alternative='smaller')"
      ],
      "metadata": {
        "colab": {
          "base_uri": "https://localhost:8080/"
        },
        "id": "5G0Ae7_UAI18",
        "outputId": "c4ca9204-dac5-461e-e437-dd61c43fb8f8"
      },
      "execution_count": 15,
      "outputs": [
        {
          "output_type": "execute_result",
          "data": {
            "text/plain": [
              "(24.610014136292214, 1.0)"
            ]
          },
          "metadata": {},
          "execution_count": 15
        }
      ]
    },
    {
      "cell_type": "markdown",
      "source": [
        "_p-value_ higher than the assumed significance level alpha = 0.05, it means no grounds for rejecting _H<sub>0</sub>_ stating that the mean in the test and control groups are the same in favor of the alternative hypothesis that the mean in the test group is higher"
      ],
      "metadata": {
        "id": "Q1vs9u24AeiK"
      }
    },
    {
      "cell_type": "markdown",
      "source": [
        "We completed the first task: \"Try to recreate the negative result of the experiment\"\n",
        "\n",
        "How to explain this counter-logical result? Let's check the number of users in the control and test groups, broken down by city:"
      ],
      "metadata": {
        "id": "bE2H7CGeBiUe"
      }
    },
    {
      "cell_type": "code",
      "source": [
        "pd.crosstab(index=data_df['city'], columns=data_df['test'])"
      ],
      "metadata": {
        "colab": {
          "base_uri": "https://localhost:8080/",
          "height": 551
        },
        "id": "BRuTZdgwAKOF",
        "outputId": "86da202c-24c8-4e32-ad4f-e73f39ef32af"
      },
      "execution_count": 16,
      "outputs": [
        {
          "output_type": "execute_result",
          "data": {
            "text/plain": [
              "test               0      1\n",
              "city                       \n",
              "Atlanta        11728  12599\n",
              "Boston         11758  12660\n",
              "Chicago        16054  16991\n",
              "Dallas         12874  13807\n",
              "Detroit         8739   9192\n",
              "Houston        11802  12589\n",
              "Los Angeles    52513      0\n",
              "Miami           8301   8984\n",
              "Minneapolis     8203   9093\n",
              "New York       34082  35812\n",
              "Philadelphia    4261  24495\n",
              "Phoenix         9317  10015\n",
              "San Francisco  11691  12609\n",
              "Seattle         2846  15850\n",
              "Tampa           8974   9631"
            ],
            "text/html": [
              "\n",
              "  <div id=\"df-2d533ca0-54af-4d11-867e-ea7721beb317\">\n",
              "    <div class=\"colab-df-container\">\n",
              "      <div>\n",
              "<style scoped>\n",
              "    .dataframe tbody tr th:only-of-type {\n",
              "        vertical-align: middle;\n",
              "    }\n",
              "\n",
              "    .dataframe tbody tr th {\n",
              "        vertical-align: top;\n",
              "    }\n",
              "\n",
              "    .dataframe thead th {\n",
              "        text-align: right;\n",
              "    }\n",
              "</style>\n",
              "<table border=\"1\" class=\"dataframe\">\n",
              "  <thead>\n",
              "    <tr style=\"text-align: right;\">\n",
              "      <th>test</th>\n",
              "      <th>0</th>\n",
              "      <th>1</th>\n",
              "    </tr>\n",
              "    <tr>\n",
              "      <th>city</th>\n",
              "      <th></th>\n",
              "      <th></th>\n",
              "    </tr>\n",
              "  </thead>\n",
              "  <tbody>\n",
              "    <tr>\n",
              "      <th>Atlanta</th>\n",
              "      <td>11728</td>\n",
              "      <td>12599</td>\n",
              "    </tr>\n",
              "    <tr>\n",
              "      <th>Boston</th>\n",
              "      <td>11758</td>\n",
              "      <td>12660</td>\n",
              "    </tr>\n",
              "    <tr>\n",
              "      <th>Chicago</th>\n",
              "      <td>16054</td>\n",
              "      <td>16991</td>\n",
              "    </tr>\n",
              "    <tr>\n",
              "      <th>Dallas</th>\n",
              "      <td>12874</td>\n",
              "      <td>13807</td>\n",
              "    </tr>\n",
              "    <tr>\n",
              "      <th>Detroit</th>\n",
              "      <td>8739</td>\n",
              "      <td>9192</td>\n",
              "    </tr>\n",
              "    <tr>\n",
              "      <th>Houston</th>\n",
              "      <td>11802</td>\n",
              "      <td>12589</td>\n",
              "    </tr>\n",
              "    <tr>\n",
              "      <th>Los Angeles</th>\n",
              "      <td>52513</td>\n",
              "      <td>0</td>\n",
              "    </tr>\n",
              "    <tr>\n",
              "      <th>Miami</th>\n",
              "      <td>8301</td>\n",
              "      <td>8984</td>\n",
              "    </tr>\n",
              "    <tr>\n",
              "      <th>Minneapolis</th>\n",
              "      <td>8203</td>\n",
              "      <td>9093</td>\n",
              "    </tr>\n",
              "    <tr>\n",
              "      <th>New York</th>\n",
              "      <td>34082</td>\n",
              "      <td>35812</td>\n",
              "    </tr>\n",
              "    <tr>\n",
              "      <th>Philadelphia</th>\n",
              "      <td>4261</td>\n",
              "      <td>24495</td>\n",
              "    </tr>\n",
              "    <tr>\n",
              "      <th>Phoenix</th>\n",
              "      <td>9317</td>\n",
              "      <td>10015</td>\n",
              "    </tr>\n",
              "    <tr>\n",
              "      <th>San Francisco</th>\n",
              "      <td>11691</td>\n",
              "      <td>12609</td>\n",
              "    </tr>\n",
              "    <tr>\n",
              "      <th>Seattle</th>\n",
              "      <td>2846</td>\n",
              "      <td>15850</td>\n",
              "    </tr>\n",
              "    <tr>\n",
              "      <th>Tampa</th>\n",
              "      <td>8974</td>\n",
              "      <td>9631</td>\n",
              "    </tr>\n",
              "  </tbody>\n",
              "</table>\n",
              "</div>\n",
              "      <button class=\"colab-df-convert\" onclick=\"convertToInteractive('df-2d533ca0-54af-4d11-867e-ea7721beb317')\"\n",
              "              title=\"Convert this dataframe to an interactive table.\"\n",
              "              style=\"display:none;\">\n",
              "        \n",
              "  <svg xmlns=\"http://www.w3.org/2000/svg\" height=\"24px\"viewBox=\"0 0 24 24\"\n",
              "       width=\"24px\">\n",
              "    <path d=\"M0 0h24v24H0V0z\" fill=\"none\"/>\n",
              "    <path d=\"M18.56 5.44l.94 2.06.94-2.06 2.06-.94-2.06-.94-.94-2.06-.94 2.06-2.06.94zm-11 1L8.5 8.5l.94-2.06 2.06-.94-2.06-.94L8.5 2.5l-.94 2.06-2.06.94zm10 10l.94 2.06.94-2.06 2.06-.94-2.06-.94-.94-2.06-.94 2.06-2.06.94z\"/><path d=\"M17.41 7.96l-1.37-1.37c-.4-.4-.92-.59-1.43-.59-.52 0-1.04.2-1.43.59L10.3 9.45l-7.72 7.72c-.78.78-.78 2.05 0 2.83L4 21.41c.39.39.9.59 1.41.59.51 0 1.02-.2 1.41-.59l7.78-7.78 2.81-2.81c.8-.78.8-2.07 0-2.86zM5.41 20L4 18.59l7.72-7.72 1.47 1.35L5.41 20z\"/>\n",
              "  </svg>\n",
              "      </button>\n",
              "      \n",
              "  <style>\n",
              "    .colab-df-container {\n",
              "      display:flex;\n",
              "      flex-wrap:wrap;\n",
              "      gap: 12px;\n",
              "    }\n",
              "\n",
              "    .colab-df-convert {\n",
              "      background-color: #E8F0FE;\n",
              "      border: none;\n",
              "      border-radius: 50%;\n",
              "      cursor: pointer;\n",
              "      display: none;\n",
              "      fill: #1967D2;\n",
              "      height: 32px;\n",
              "      padding: 0 0 0 0;\n",
              "      width: 32px;\n",
              "    }\n",
              "\n",
              "    .colab-df-convert:hover {\n",
              "      background-color: #E2EBFA;\n",
              "      box-shadow: 0px 1px 2px rgba(60, 64, 67, 0.3), 0px 1px 3px 1px rgba(60, 64, 67, 0.15);\n",
              "      fill: #174EA6;\n",
              "    }\n",
              "\n",
              "    [theme=dark] .colab-df-convert {\n",
              "      background-color: #3B4455;\n",
              "      fill: #D2E3FC;\n",
              "    }\n",
              "\n",
              "    [theme=dark] .colab-df-convert:hover {\n",
              "      background-color: #434B5C;\n",
              "      box-shadow: 0px 1px 3px 1px rgba(0, 0, 0, 0.15);\n",
              "      filter: drop-shadow(0px 1px 2px rgba(0, 0, 0, 0.3));\n",
              "      fill: #FFFFFF;\n",
              "    }\n",
              "  </style>\n",
              "\n",
              "      <script>\n",
              "        const buttonEl =\n",
              "          document.querySelector('#df-2d533ca0-54af-4d11-867e-ea7721beb317 button.colab-df-convert');\n",
              "        buttonEl.style.display =\n",
              "          google.colab.kernel.accessAllowed ? 'block' : 'none';\n",
              "\n",
              "        async function convertToInteractive(key) {\n",
              "          const element = document.querySelector('#df-2d533ca0-54af-4d11-867e-ea7721beb317');\n",
              "          const dataTable =\n",
              "            await google.colab.kernel.invokeFunction('convertToInteractive',\n",
              "                                                     [key], {});\n",
              "          if (!dataTable) return;\n",
              "\n",
              "          const docLinkHtml = 'Like what you see? Visit the ' +\n",
              "            '<a target=\"_blank\" href=https://colab.research.google.com/notebooks/data_table.ipynb>data table notebook</a>'\n",
              "            + ' to learn more about interactive tables.';\n",
              "          element.innerHTML = '';\n",
              "          dataTable['output_type'] = 'display_data';\n",
              "          await google.colab.output.renderOutput(dataTable, element);\n",
              "          const docLink = document.createElement('div');\n",
              "          docLink.innerHTML = docLinkHtml;\n",
              "          element.appendChild(docLink);\n",
              "        }\n",
              "      </script>\n",
              "    </div>\n",
              "  </div>\n",
              "  "
            ]
          },
          "metadata": {},
          "execution_count": 16
        }
      ]
    },
    {
      "cell_type": "code",
      "source": [
        "(data_df\n",
        "     .groupby(['city', 'test'])['viewer_id']\n",
        "     .count().reset_index()\n",
        "     .pivot(index = 'city', columns='test')\n",
        "     .plot(kind='barh', figsize=(15,15))\n",
        ")"
      ],
      "metadata": {
        "colab": {
          "base_uri": "https://localhost:8080/",
          "height": 880
        },
        "id": "tq0oAl1SBq0N",
        "outputId": "e91fbe6e-2e70-425d-c625-51dc46e5144b"
      },
      "execution_count": 17,
      "outputs": [
        {
          "output_type": "execute_result",
          "data": {
            "text/plain": [
              "<matplotlib.axes._subplots.AxesSubplot at 0x7fb159645ed0>"
            ]
          },
          "metadata": {},
          "execution_count": 17
        },
        {
          "output_type": "display_data",
          "data": {
            "text/plain": [
              "<Figure size 1080x1080 with 1 Axes>"
            ],
            "image/png": "[encoded data removed]"
          },
          "metadata": {
            "needs_background": "light"
          }
        }
      ]
    },
    {
      "cell_type": "code",
      "source": [
        "# the proportion of LA observations in the control group\n",
        "data_df['viewer_id'][data_df['test']==0][data_df['city']=='Los Angeles'].count() / data_df['viewer_id'][data_df['test']==0].count()"
      ],
      "metadata": {
        "colab": {
          "base_uri": "https://localhost:8080/"
        },
        "id": "z3ayUZmLBxjm",
        "outputId": "627f0719-4088-42c1-a9f4-3e1d30e94263"
      },
      "execution_count": 18,
      "outputs": [
        {
          "output_type": "execute_result",
          "data": {
            "text/plain": [
              "0.2463744997489948"
            ]
          },
          "metadata": {},
          "execution_count": 18
        }
      ]
    },
    {
      "cell_type": "markdown",
      "source": [
        "Now you can see where the problem occurs - in the control group (0) we have a lot of LA users (almost 25% of the entire control group), who by definition convert very well, thus increasing the average for the entire control group. In order not to artificially raise the results in the control group, it is necessary to get rid of the data about users from LA and run the test again.\n",
        "\n",
        "In addition, we have two cities that present a significant disproportion between the size of the test group and the control group, these two cities (Seattle and Philadelphia) are also excluded from the data."
      ],
      "metadata": {
        "id": "V9V0RkWrCLPv"
      }
    },
    {
      "cell_type": "code",
      "source": [
        "control_df = control_df.drop(control_df[control_df['city']=='Los Angeles'].index)\n",
        "exposed_df = exposed_df.drop(exposed_df[exposed_df['city']=='Seattle'].index | exposed_df[exposed_df['city']=='Philadelphia'].index)\n",
        "control_df = control_df.drop(control_df[control_df['city']=='Seattle'].index | control_df[control_df['city']=='Philadelphia'].index)"
      ],
      "metadata": {
        "colab": {
          "base_uri": "https://localhost:8080/"
        },
        "id": "s1mY57c4CdZn",
        "outputId": "e6828c67-eb9f-46d5-bf8f-7cfcfc02f4b5"
      },
      "execution_count": 19,
      "outputs": [
        {
          "output_type": "stream",
          "name": "stderr",
          "text": [
            "/usr/local/lib/python3.7/dist-packages/ipykernel_launcher.py:2: FutureWarning: Index.__or__ operating as a set operation is deprecated, in the future this will be a logical operation matching Series.__or__.  Use index.union(other) instead\n",
            "  \n",
            "/usr/local/lib/python3.7/dist-packages/ipykernel_launcher.py:3: FutureWarning: Index.__or__ operating as a set operation is deprecated, in the future this will be a logical operation matching Series.__or__.  Use index.union(other) instead\n",
            "  This is separate from the ipykernel package so we can avoid doing imports until\n"
          ]
        }
      ]
    },
    {
      "cell_type": "code",
      "source": [
        "control_df['city'].unique()"
      ],
      "metadata": {
        "colab": {
          "base_uri": "https://localhost:8080/"
        },
        "id": "24wfDjeMCpiP",
        "outputId": "a08f4e86-6ae0-46ce-bb4c-b2dbe30589ce"
      },
      "execution_count": 20,
      "outputs": [
        {
          "output_type": "execute_result",
          "data": {
            "text/plain": [
              "array(['New York', 'San Francisco', 'Detroit', 'Chicago', 'Minneapolis',\n",
              "       'Dallas', 'Miami', 'Boston', 'Tampa', 'Houston', 'Phoenix',\n",
              "       'Atlanta'], dtype=object)"
            ]
          },
          "metadata": {},
          "execution_count": 20
        }
      ]
    },
    {
      "cell_type": "code",
      "source": [
        "exposed_df['city'].unique()"
      ],
      "metadata": {
        "colab": {
          "base_uri": "https://localhost:8080/"
        },
        "id": "GxW0wz1CCrBO",
        "outputId": "2539b005-df61-43d2-d19f-a2b41bcb633f"
      },
      "execution_count": 22,
      "outputs": [
        {
          "output_type": "execute_result",
          "data": {
            "text/plain": [
              "array(['Boston', 'Minneapolis', 'Atlanta', 'San Francisco', 'Phoenix',\n",
              "       'New York', 'Tampa', 'Dallas', 'Miami', 'Chicago', 'Houston',\n",
              "       'Detroit'], dtype=object)"
            ]
          },
          "metadata": {},
          "execution_count": 22
        }
      ]
    },
    {
      "cell_type": "markdown",
      "source": [
        "After dropping the observations from LA, Seattle, and Philadelphia, we re-run our test:\n",
        "\n",
        "$$ H_0: \\mu_c = \\mu_t $$\n",
        "$$ H_1: \\mu_c < \\mu_t $$"
      ],
      "metadata": {
        "id": "a1novw3eC0bL"
      }
    },
    {
      "cell_type": "code",
      "source": [
        "control_results = control_df['watched']\n",
        "exposed_results = exposed_df['watched']\n",
        "\n",
        "n_cont = control_results.count()\n",
        "n_cont_succ = control_results.sum()\n",
        "n_exp = exposed_results.count()\n",
        "n_exp_succ = exposed_results.sum()\n",
        "\n",
        "proportions_ztest([n_cont_succ, n_exp_succ], [n_cont, n_exp], alternative='smaller')"
      ],
      "metadata": {
        "colab": {
          "base_uri": "https://localhost:8080/"
        },
        "id": "GPGBEqYJCtf4",
        "outputId": "17e03d27-342e-406e-c400-a052c6537b1c"
      },
      "execution_count": 23,
      "outputs": [
        {
          "output_type": "execute_result",
          "data": {
            "text/plain": [
              "(0.14972963461448793, 0.559511036652478)"
            ]
          },
          "metadata": {},
          "execution_count": 23
        }
      ]
    },
    {
      "cell_type": "markdown",
      "source": [
        "After removing these 3 cities from the control group, we still have the _p-value_ above the significance level, and this means that we have no grounds to reject _H<sub>0</sub>_ in favor of the alternative one with a higher mean in the test group."
      ],
      "metadata": {
        "id": "xZFBgkOnDMhx"
      }
    },
    {
      "cell_type": "code",
      "source": [
        "sns.set(rc={'figure.figsize':(16,8)})\n",
        "sns.barplot(x=data_df['city'], y=data_df['watched'], hue=data_df['test'])"
      ],
      "metadata": {
        "colab": {
          "base_uri": "https://localhost:8080/",
          "height": 519
        },
        "id": "tglfgMu2C_9g",
        "outputId": "a057f5a0-6440-4c40-901d-c69c317ec793"
      },
      "execution_count": 24,
      "outputs": [
        {
          "output_type": "execute_result",
          "data": {
            "text/plain": [
              "<matplotlib.axes._subplots.AxesSubplot at 0x7fb159549b10>"
            ]
          },
          "metadata": {},
          "execution_count": 24
        },
        {
          "output_type": "display_data",
          "data": {
            "text/plain": [
              "<Figure size 1152x576 with 1 Axes>"
            ],
            "image/png": "[encoded data removed]"
          },
          "metadata": {}
        }
      ]
    },
    {
      "cell_type": "code",
      "source": [
        "control_df.groupby('city')['watched'].agg('mean')"
      ],
      "metadata": {
        "colab": {
          "base_uri": "https://localhost:8080/"
        },
        "id": "iPZ35tRyD9kN",
        "outputId": "c67731f8-296d-4f78-db00-ee79cb0877c2"
      },
      "execution_count": 47,
      "outputs": [
        {
          "output_type": "execute_result",
          "data": {
            "text/plain": [
              "city\n",
              "Atlanta          0.050222\n",
              "Boston           0.051454\n",
              "Chicago          0.049458\n",
              "Dallas           0.050878\n",
              "Detroit          0.046916\n",
              "Houston          0.051347\n",
              "Miami            0.049633\n",
              "Minneapolis      0.053151\n",
              "New York         0.053049\n",
              "Phoenix          0.053665\n",
              "San Francisco    0.049953\n",
              "Tampa            0.050925\n",
              "Name: watched, dtype: float64"
            ]
          },
          "metadata": {},
          "execution_count": 47
        }
      ]
    },
    {
      "cell_type": "code",
      "source": [
        "control_df.groupby('city')['watched'].agg('mean').to_frame().merge(\n",
        "    exposed_df.groupby('city')['watched'].agg('mean').to_frame(),\n",
        "    on='city'\n",
        "    ).rename(columns={\"watched_x\": \"control watched\", \"watched_y\": \"exposed watched\"})"
      ],
      "metadata": {
        "colab": {
          "base_uri": "https://localhost:8080/",
          "height": 457
        },
        "id": "VQTS9qjxF1JE",
        "outputId": "c94b223e-b6fb-42a0-ec4e-d29b9be5367e"
      },
      "execution_count": 50,
      "outputs": [
        {
          "output_type": "execute_result",
          "data": {
            "text/plain": [
              "               control watched  exposed watched\n",
              "city                                           \n",
              "Atlanta               0.050222         0.050877\n",
              "Boston                0.051454         0.052291\n",
              "Chicago               0.049458         0.051674\n",
              "Dallas                0.050878         0.047802\n",
              "Detroit               0.046916         0.053198\n",
              "Houston               0.051347         0.052586\n",
              "Miami                 0.049633         0.052204\n",
              "Minneapolis           0.053151         0.052458\n",
              "New York              0.053049         0.050011\n",
              "Phoenix               0.053665         0.051523\n",
              "San Francisco         0.049953         0.049647\n",
              "Tampa                 0.050925         0.052020"
            ],
            "text/html": [
              "\n",
              "  <div id=\"df-7420acd4-81f2-446d-81ef-47d922a13a5d\">\n",
              "    <div class=\"colab-df-container\">\n",
              "      <div>\n",
              "<style scoped>\n",
              "    .dataframe tbody tr th:only-of-type {\n",
              "        vertical-align: middle;\n",
              "    }\n",
              "\n",
              "    .dataframe tbody tr th {\n",
              "        vertical-align: top;\n",
              "    }\n",
              "\n",
              "    .dataframe thead th {\n",
              "        text-align: right;\n",
              "    }\n",
              "</style>\n",
              "<table border=\"1\" class=\"dataframe\">\n",
              "  <thead>\n",
              "    <tr style=\"text-align: right;\">\n",
              "      <th></th>\n",
              "      <th>control watched</th>\n",
              "      <th>exposed watched</th>\n",
              "    </tr>\n",
              "    <tr>\n",
              "      <th>city</th>\n",
              "      <th></th>\n",
              "      <th></th>\n",
              "    </tr>\n",
              "  </thead>\n",
              "  <tbody>\n",
              "    <tr>\n",
              "      <th>Atlanta</th>\n",
              "      <td>0.050222</td>\n",
              "      <td>0.050877</td>\n",
              "    </tr>\n",
              "    <tr>\n",
              "      <th>Boston</th>\n",
              "      <td>0.051454</td>\n",
              "      <td>0.052291</td>\n",
              "    </tr>\n",
              "    <tr>\n",
              "      <th>Chicago</th>\n",
              "      <td>0.049458</td>\n",
              "      <td>0.051674</td>\n",
              "    </tr>\n",
              "    <tr>\n",
              "      <th>Dallas</th>\n",
              "      <td>0.050878</td>\n",
              "      <td>0.047802</td>\n",
              "    </tr>\n",
              "    <tr>\n",
              "      <th>Detroit</th>\n",
              "      <td>0.046916</td>\n",
              "      <td>0.053198</td>\n",
              "    </tr>\n",
              "    <tr>\n",
              "      <th>Houston</th>\n",
              "      <td>0.051347</td>\n",
              "      <td>0.052586</td>\n",
              "    </tr>\n",
              "    <tr>\n",
              "      <th>Miami</th>\n",
              "      <td>0.049633</td>\n",
              "      <td>0.052204</td>\n",
              "    </tr>\n",
              "    <tr>\n",
              "      <th>Minneapolis</th>\n",
              "      <td>0.053151</td>\n",
              "      <td>0.052458</td>\n",
              "    </tr>\n",
              "    <tr>\n",
              "      <th>New York</th>\n",
              "      <td>0.053049</td>\n",
              "      <td>0.050011</td>\n",
              "    </tr>\n",
              "    <tr>\n",
              "      <th>Phoenix</th>\n",
              "      <td>0.053665</td>\n",
              "      <td>0.051523</td>\n",
              "    </tr>\n",
              "    <tr>\n",
              "      <th>San Francisco</th>\n",
              "      <td>0.049953</td>\n",
              "      <td>0.049647</td>\n",
              "    </tr>\n",
              "    <tr>\n",
              "      <th>Tampa</th>\n",
              "      <td>0.050925</td>\n",
              "      <td>0.052020</td>\n",
              "    </tr>\n",
              "  </tbody>\n",
              "</table>\n",
              "</div>\n",
              "      <button class=\"colab-df-convert\" onclick=\"convertToInteractive('df-7420acd4-81f2-446d-81ef-47d922a13a5d')\"\n",
              "              title=\"Convert this dataframe to an interactive table.\"\n",
              "              style=\"display:none;\">\n",
              "        \n",
              "  <svg xmlns=\"http://www.w3.org/2000/svg\" height=\"24px\"viewBox=\"0 0 24 24\"\n",
              "       width=\"24px\">\n",
              "    <path d=\"M0 0h24v24H0V0z\" fill=\"none\"/>\n",
              "    <path d=\"M18.56 5.44l.94 2.06.94-2.06 2.06-.94-2.06-.94-.94-2.06-.94 2.06-2.06.94zm-11 1L8.5 8.5l.94-2.06 2.06-.94-2.06-.94L8.5 2.5l-.94 2.06-2.06.94zm10 10l.94 2.06.94-2.06 2.06-.94-2.06-.94-.94-2.06-.94 2.06-2.06.94z\"/><path d=\"M17.41 7.96l-1.37-1.37c-.4-.4-.92-.59-1.43-.59-.52 0-1.04.2-1.43.59L10.3 9.45l-7.72 7.72c-.78.78-.78 2.05 0 2.83L4 21.41c.39.39.9.59 1.41.59.51 0 1.02-.2 1.41-.59l7.78-7.78 2.81-2.81c.8-.78.8-2.07 0-2.86zM5.41 20L4 18.59l7.72-7.72 1.47 1.35L5.41 20z\"/>\n",
              "  </svg>\n",
              "      </button>\n",
              "      \n",
              "  <style>\n",
              "    .colab-df-container {\n",
              "      display:flex;\n",
              "      flex-wrap:wrap;\n",
              "      gap: 12px;\n",
              "    }\n",
              "\n",
              "    .colab-df-convert {\n",
              "      background-color: #E8F0FE;\n",
              "      border: none;\n",
              "      border-radius: 50%;\n",
              "      cursor: pointer;\n",
              "      display: none;\n",
              "      fill: #1967D2;\n",
              "      height: 32px;\n",
              "      padding: 0 0 0 0;\n",
              "      width: 32px;\n",
              "    }\n",
              "\n",
              "    .colab-df-convert:hover {\n",
              "      background-color: #E2EBFA;\n",
              "      box-shadow: 0px 1px 2px rgba(60, 64, 67, 0.3), 0px 1px 3px 1px rgba(60, 64, 67, 0.15);\n",
              "      fill: #174EA6;\n",
              "    }\n",
              "\n",
              "    [theme=dark] .colab-df-convert {\n",
              "      background-color: #3B4455;\n",
              "      fill: #D2E3FC;\n",
              "    }\n",
              "\n",
              "    [theme=dark] .colab-df-convert:hover {\n",
              "      background-color: #434B5C;\n",
              "      box-shadow: 0px 1px 3px 1px rgba(0, 0, 0, 0.15);\n",
              "      filter: drop-shadow(0px 1px 2px rgba(0, 0, 0, 0.3));\n",
              "      fill: #FFFFFF;\n",
              "    }\n",
              "  </style>\n",
              "\n",
              "      <script>\n",
              "        const buttonEl =\n",
              "          document.querySelector('#df-7420acd4-81f2-446d-81ef-47d922a13a5d button.colab-df-convert');\n",
              "        buttonEl.style.display =\n",
              "          google.colab.kernel.accessAllowed ? 'block' : 'none';\n",
              "\n",
              "        async function convertToInteractive(key) {\n",
              "          const element = document.querySelector('#df-7420acd4-81f2-446d-81ef-47d922a13a5d');\n",
              "          const dataTable =\n",
              "            await google.colab.kernel.invokeFunction('convertToInteractive',\n",
              "                                                     [key], {});\n",
              "          if (!dataTable) return;\n",
              "\n",
              "          const docLinkHtml = 'Like what you see? Visit the ' +\n",
              "            '<a target=\"_blank\" href=https://colab.research.google.com/notebooks/data_table.ipynb>data table notebook</a>'\n",
              "            + ' to learn more about interactive tables.';\n",
              "          element.innerHTML = '';\n",
              "          dataTable['output_type'] = 'display_data';\n",
              "          await google.colab.output.renderOutput(dataTable, element);\n",
              "          const docLink = document.createElement('div');\n",
              "          docLink.innerHTML = docLinkHtml;\n",
              "          element.appendChild(docLink);\n",
              "        }\n",
              "      </script>\n",
              "    </div>\n",
              "  </div>\n",
              "  "
            ]
          },
          "metadata": {},
          "execution_count": 50
        }
      ]
    },
    {
      "cell_type": "markdown",
      "source": [
        "Let's run the test again, this time for each city separately, and answer the question of whether dedicated ads converted better in a given city:\n",
        "\n",
        "$$ H_0: \\mu_c = \\mu_t $$\n",
        "$$ H_1: \\mu_c < \\mu_t $$\n"
      ],
      "metadata": {
        "id": "VEvoWkQeI-eb"
      }
    },
    {
      "cell_type": "code",
      "source": [
        "cities = control_df['city'].unique()\n",
        "\n",
        "for city in cities:\n",
        "\n",
        "    control_results = control_df['watched'][control_df['city']==city]\n",
        "    exposed_results = exposed_df['watched'][exposed_df['city']==city]\n",
        "\n",
        "    n_cont = control_results.count()\n",
        "    n_cont_succ = control_results.sum()\n",
        "    n_exp = exposed_results.count()\n",
        "    n_exp_succ = exposed_results.sum()\n",
        "\n",
        "    _, p_val = proportions_ztest([n_cont_succ, n_exp_succ], [n_cont, n_exp], alternative='smaller')\n",
        "    p_val = round(p_val, 4)\n",
        "    \n",
        "    if p_val < 0.05:\n",
        "        print('{}: p-value= {},\\n(p-value below the significance level of 0.05 -> we reject H_0, and accept the alternative hypothesis about better conversion in dedicated ads)\\n'.format(city, p_val))\n",
        "    else:\n",
        "        print('{}: p-value= {},\\n(p-value above the significance level, and this means that we have no grounds to reject H_0)\\n'.format(city, p_val))\n"
      ],
      "metadata": {
        "colab": {
          "base_uri": "https://localhost:8080/"
        },
        "id": "sRckQak2GEnu",
        "outputId": "679b88bf-36e4-4c7f-ff79-a32fdc732daa"
      },
      "execution_count": 64,
      "outputs": [
        {
          "output_type": "stream",
          "name": "stdout",
          "text": [
            "New York: p-value= 0.9653,\n",
            "(p-value above the significance level, and this means that we have no grounds to reject H_0)\n",
            "\n",
            "San Francisco: p-value= 0.5436,\n",
            "(p-value above the significance level, and this means that we have no grounds to reject H_0)\n",
            "\n",
            "Detroit: p-value= 0.027,\n",
            "(p-value below the significance level of 0.05 -> we reject H_0, and accept the alternative hypothesis about better conversion in dedicated ads)\n",
            "\n",
            "Chicago: p-value= 0.1791,\n",
            "(p-value above the significance level, and this means that we have no grounds to reject H_0)\n",
            "\n",
            "Minneapolis: p-value= 0.5807,\n",
            "(p-value above the significance level, and this means that we have no grounds to reject H_0)\n",
            "\n",
            "Dallas: p-value= 0.8769,\n",
            "(p-value above the significance level, and this means that we have no grounds to reject H_0)\n",
            "\n",
            "Miami: p-value= 0.2213,\n",
            "(p-value above the significance level, and this means that we have no grounds to reject H_0)\n",
            "\n",
            "Boston: p-value= 0.3842,\n",
            "(p-value above the significance level, and this means that we have no grounds to reject H_0)\n",
            "\n",
            "Tampa: p-value= 0.3678,\n",
            "(p-value above the significance level, and this means that we have no grounds to reject H_0)\n",
            "\n",
            "Houston: p-value= 0.3316,\n",
            "(p-value above the significance level, and this means that we have no grounds to reject H_0)\n",
            "\n",
            "Phoenix: p-value= 0.7476,\n",
            "(p-value above the significance level, and this means that we have no grounds to reject H_0)\n",
            "\n",
            "Atlanta: p-value= 0.4078,\n",
            "(p-value above the significance level, and this means that we have no grounds to reject H_0)\n",
            "\n"
          ]
        }
      ]
    },
    {
      "cell_type": "markdown",
      "source": [
        "Only in Detroid the z-proportion test showed a statistically significant improvement in the converison for dedicated ads. In all other cities, there was no improvement OR it was not statistically significant.\n",
        "\n",
        "Can we conclude that there has been an improvement in the performance of the ads in Detroit?\n"
      ],
      "metadata": {
        "id": "_iZ4rCk1KcZd"
      }
    },
    {
      "cell_type": "code",
      "source": [
        "from scipy.stats import binom\n",
        "\n",
        "\n",
        "binom.cdf(1, n=12, p=0.05)\n",
        "# expecting to get one success in n=12 tries with a success probability of p=0.05, we have approx. 88% chance to succeed"
      ],
      "metadata": {
        "colab": {
          "base_uri": "https://localhost:8080/"
        },
        "id": "11N3hUr4KOte",
        "outputId": "52037d19-991b-4e1f-f4d6-3a3c98d19563"
      },
      "execution_count": 52,
      "outputs": [
        {
          "output_type": "execute_result",
          "data": {
            "text/plain": [
              "0.881640143028513"
            ]
          },
          "metadata": {},
          "execution_count": 52
        }
      ]
    },
    {
      "cell_type": "markdown",
      "source": [
        "With a series of tests (as in the example above), the _p-value_ should be _0.05 / n_, where _n_ is the number of tests performed in the single series\n",
        "(more at replicabilityindex.com):"
      ],
      "metadata": {
        "id": "D-QGaUNTMEDg"
      }
    },
    {
      "cell_type": "code",
      "source": [
        "print('number of cities:', len(cities))\n",
        "p_val_level_for_series = round(0.05 / len(cities),4)\n",
        "print('p-value for series of test:', p_val_for_series)"
      ],
      "metadata": {
        "colab": {
          "base_uri": "https://localhost:8080/"
        },
        "id": "Lle7OEpSMn-s",
        "outputId": "a7c53665-8035-44ce-8e15-9ae6341e522a"
      },
      "execution_count": 62,
      "outputs": [
        {
          "output_type": "stream",
          "name": "stdout",
          "text": [
            "number of cities: 12\n",
            "p-value for series of test: 0.004166666666666667\n"
          ]
        }
      ]
    },
    {
      "cell_type": "code",
      "source": [
        "for city in cities:\n",
        "\n",
        "    control_results = control_df['watched'][control_df['city']==city]\n",
        "    exposed_results = exposed_df['watched'][exposed_df['city']==city]\n",
        "\n",
        "    n_cont = control_results.count()\n",
        "    n_cont_succ = control_results.sum()\n",
        "    n_exp = exposed_results.count()\n",
        "    n_exp_succ = exposed_results.sum()\n",
        "\n",
        "    _, p_val = proportions_ztest([n_cont_succ, n_exp_succ], [n_cont, n_exp], alternative='smaller')\n",
        "    p_val = round(p_val, 4)\n",
        "    \n",
        "    if p_val < p_val_level_for_series:\n",
        "        print('{}: p-value= {}\\n(p-value below the significance level of {} -> we reject H_0, and accept the alternative hypothesis about better conversion in dedicated ads)\\n'.format(city, p_val, p_val_level_for_series))\n",
        "    else:\n",
        "        print('{}: p-value= {},\\n(p-value above the significance level of {} -> we have no grounds to reject H_0)\\n'.format(city, p_val, p_val_level_for_series))\n"
      ],
      "metadata": {
        "colab": {
          "base_uri": "https://localhost:8080/"
        },
        "id": "SEMYOJm6MjcA",
        "outputId": "a457f157-d517-40ff-b03b-5a713926d2f5"
      },
      "execution_count": 63,
      "outputs": [
        {
          "output_type": "stream",
          "name": "stdout",
          "text": [
            "New York: p-value= 0.9653,\n",
            "(p-value above the significance level of 0.0042 -> we have no grounds to reject H_0)\n",
            "\n",
            "San Francisco: p-value= 0.5436,\n",
            "(p-value above the significance level of 0.0042 -> we have no grounds to reject H_0)\n",
            "\n",
            "Detroit: p-value= 0.027,\n",
            "(p-value above the significance level of 0.0042 -> we have no grounds to reject H_0)\n",
            "\n",
            "Chicago: p-value= 0.1791,\n",
            "(p-value above the significance level of 0.0042 -> we have no grounds to reject H_0)\n",
            "\n",
            "Minneapolis: p-value= 0.5807,\n",
            "(p-value above the significance level of 0.0042 -> we have no grounds to reject H_0)\n",
            "\n",
            "Dallas: p-value= 0.8769,\n",
            "(p-value above the significance level of 0.0042 -> we have no grounds to reject H_0)\n",
            "\n",
            "Miami: p-value= 0.2213,\n",
            "(p-value above the significance level of 0.0042 -> we have no grounds to reject H_0)\n",
            "\n",
            "Boston: p-value= 0.3842,\n",
            "(p-value above the significance level of 0.0042 -> we have no grounds to reject H_0)\n",
            "\n",
            "Tampa: p-value= 0.3678,\n",
            "(p-value above the significance level of 0.0042 -> we have no grounds to reject H_0)\n",
            "\n",
            "Houston: p-value= 0.3316,\n",
            "(p-value above the significance level of 0.0042 -> we have no grounds to reject H_0)\n",
            "\n",
            "Phoenix: p-value= 0.7476,\n",
            "(p-value above the significance level of 0.0042 -> we have no grounds to reject H_0)\n",
            "\n",
            "Atlanta: p-value= 0.4078,\n",
            "(p-value above the significance level of 0.0042 -> we have no grounds to reject H_0)\n",
            "\n"
          ]
        }
      ]
    }
  ]
}