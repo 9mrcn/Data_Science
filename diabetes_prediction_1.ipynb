{
  "nbformat": 4,
  "nbformat_minor": 0,
  "metadata": {
    "colab": {
      "provenance": [],
      "authorship_tag": "ABX9TyO8ku0XsGjEqkDOyPe0WwiM",
      "include_colab_link": true
    },
    "kernelspec": {
      "name": "python3",
      "display_name": "Python 3"
    },
    "language_info": {
      "name": "python"
    }
  },
  "cells": [
    {
      "cell_type": "markdown",
      "metadata": {
        "id": "view-in-github",
        "colab_type": "text"
      },
      "source": [
        "<a href=\"https://colab.research.google.com/github/9mrcn/Data_Science/blob/master/diabetes_prediction_1.ipynb\" target=\"_parent\"><img src=\"https://colab.research.google.com/assets/colab-badge.svg\" alt=\"Open In Colab\"/></a>"
      ]
    },
    {
      "cell_type": "markdown",
      "source": [
        "# Loading data and needed libraries"
      ],
      "metadata": {
        "id": "wG9gNB3Ud6-P"
      }
    },
    {
      "cell_type": "code",
      "execution_count": 1,
      "metadata": {
        "id": "FH9-LnGCtCIc"
      },
      "outputs": [],
      "source": [
        "import pandas as pd\n",
        "import numpy as np\n",
        "from google.colab import drive\n",
        "from pandas.io.parsers.readers import read_csv\n",
        "import matplotlib as mpl\n",
        "import matplotlib.pyplot as plt\n",
        "from sklearn.preprocessing import StandardScaler\n",
        "from sklearn.model_selection import StratifiedShuffleSplit\n",
        "from IPython.display import Markdown as md"
      ]
    },
    {
      "cell_type": "code",
      "source": [
        "mpl.rc('axes', labelsize=14)\n",
        "mpl.rc('xtick', labelsize=12)\n",
        "mpl.rc('ytick', labelsize=12)"
      ],
      "metadata": {
        "id": "PjBBY9rsI2Fj"
      },
      "execution_count": 2,
      "outputs": []
    },
    {
      "cell_type": "code",
      "source": [
        "# # Uncomment this cell if you downloaded a data file to your Google Drive and you want to mount your drive and use the downloaded file\n",
        "# drive.mount('/content/drive/')\n",
        "# diabetes_df = read_csv('/content/drive/MyDrive/DS_2.0/ML_Zadanie_1/diabetes.csv') # remember to specify your own path to the file!"
      ],
      "metadata": {
        "id": "lA64wrnitinV"
      },
      "execution_count": 3,
      "outputs": []
    },
    {
      "cell_type": "code",
      "source": [
        "diabetes_df = read_csv('https://raw.githubusercontent.com/9mrcn/Data_Science/master/data/diabetes.csv')"
      ],
      "metadata": {
        "id": "OWhSLiVM1L_t"
      },
      "execution_count": 4,
      "outputs": []
    },
    {
      "cell_type": "code",
      "source": [
        "diabetes_df.head()"
      ],
      "metadata": {
        "colab": {
          "base_uri": "https://localhost:8080/",
          "height": 0
        },
        "id": "9NakQJLshOWS",
        "outputId": "6acb4d7c-11d4-43c8-c864-5644e76c070f"
      },
      "execution_count": 5,
      "outputs": [
        {
          "output_type": "execute_result",
          "data": {
            "text/plain": [
              "   Pregnancies  Glucose  BloodPressure  SkinThickness  Insulin   BMI  \\\n",
              "0            6      148             72             35        0  33.6   \n",
              "1            1       85             66             29        0  26.6   \n",
              "2            8      183             64              0        0  23.3   \n",
              "3            1       89             66             23       94  28.1   \n",
              "4            0      137             40             35      168  43.1   \n",
              "\n",
              "   DiabetesPedigreeFunction  Age  Outcome  \n",
              "0                     0.627   50        1  \n",
              "1                     0.351   31        0  \n",
              "2                     0.672   32        1  \n",
              "3                     0.167   21        0  \n",
              "4                     2.288   33        1  "
            ],
            "text/html": [
              "\n",
              "  <div id=\"df-6b812222-f16f-4123-b660-30a104a6ae8f\">\n",
              "    <div class=\"colab-df-container\">\n",
              "      <div>\n",
              "<style scoped>\n",
              "    .dataframe tbody tr th:only-of-type {\n",
              "        vertical-align: middle;\n",
              "    }\n",
              "\n",
              "    .dataframe tbody tr th {\n",
              "        vertical-align: top;\n",
              "    }\n",
              "\n",
              "    .dataframe thead th {\n",
              "        text-align: right;\n",
              "    }\n",
              "</style>\n",
              "<table border=\"1\" class=\"dataframe\">\n",
              "  <thead>\n",
              "    <tr style=\"text-align: right;\">\n",
              "      <th></th>\n",
              "      <th>Pregnancies</th>\n",
              "      <th>Glucose</th>\n",
              "      <th>BloodPressure</th>\n",
              "      <th>SkinThickness</th>\n",
              "      <th>Insulin</th>\n",
              "      <th>BMI</th>\n",
              "      <th>DiabetesPedigreeFunction</th>\n",
              "      <th>Age</th>\n",
              "      <th>Outcome</th>\n",
              "    </tr>\n",
              "  </thead>\n",
              "  <tbody>\n",
              "    <tr>\n",
              "      <th>0</th>\n",
              "      <td>6</td>\n",
              "      <td>148</td>\n",
              "      <td>72</td>\n",
              "      <td>35</td>\n",
              "      <td>0</td>\n",
              "      <td>33.6</td>\n",
              "      <td>0.627</td>\n",
              "      <td>50</td>\n",
              "      <td>1</td>\n",
              "    </tr>\n",
              "    <tr>\n",
              "      <th>1</th>\n",
              "      <td>1</td>\n",
              "      <td>85</td>\n",
              "      <td>66</td>\n",
              "      <td>29</td>\n",
              "      <td>0</td>\n",
              "      <td>26.6</td>\n",
              "      <td>0.351</td>\n",
              "      <td>31</td>\n",
              "      <td>0</td>\n",
              "    </tr>\n",
              "    <tr>\n",
              "      <th>2</th>\n",
              "      <td>8</td>\n",
              "      <td>183</td>\n",
              "      <td>64</td>\n",
              "      <td>0</td>\n",
              "      <td>0</td>\n",
              "      <td>23.3</td>\n",
              "      <td>0.672</td>\n",
              "      <td>32</td>\n",
              "      <td>1</td>\n",
              "    </tr>\n",
              "    <tr>\n",
              "      <th>3</th>\n",
              "      <td>1</td>\n",
              "      <td>89</td>\n",
              "      <td>66</td>\n",
              "      <td>23</td>\n",
              "      <td>94</td>\n",
              "      <td>28.1</td>\n",
              "      <td>0.167</td>\n",
              "      <td>21</td>\n",
              "      <td>0</td>\n",
              "    </tr>\n",
              "    <tr>\n",
              "      <th>4</th>\n",
              "      <td>0</td>\n",
              "      <td>137</td>\n",
              "      <td>40</td>\n",
              "      <td>35</td>\n",
              "      <td>168</td>\n",
              "      <td>43.1</td>\n",
              "      <td>2.288</td>\n",
              "      <td>33</td>\n",
              "      <td>1</td>\n",
              "    </tr>\n",
              "  </tbody>\n",
              "</table>\n",
              "</div>\n",
              "      <button class=\"colab-df-convert\" onclick=\"convertToInteractive('df-6b812222-f16f-4123-b660-30a104a6ae8f')\"\n",
              "              title=\"Convert this dataframe to an interactive table.\"\n",
              "              style=\"display:none;\">\n",
              "        \n",
              "  <svg xmlns=\"http://www.w3.org/2000/svg\" height=\"24px\"viewBox=\"0 0 24 24\"\n",
              "       width=\"24px\">\n",
              "    <path d=\"M0 0h24v24H0V0z\" fill=\"none\"/>\n",
              "    <path d=\"M18.56 5.44l.94 2.06.94-2.06 2.06-.94-2.06-.94-.94-2.06-.94 2.06-2.06.94zm-11 1L8.5 8.5l.94-2.06 2.06-.94-2.06-.94L8.5 2.5l-.94 2.06-2.06.94zm10 10l.94 2.06.94-2.06 2.06-.94-2.06-.94-.94-2.06-.94 2.06-2.06.94z\"/><path d=\"M17.41 7.96l-1.37-1.37c-.4-.4-.92-.59-1.43-.59-.52 0-1.04.2-1.43.59L10.3 9.45l-7.72 7.72c-.78.78-.78 2.05 0 2.83L4 21.41c.39.39.9.59 1.41.59.51 0 1.02-.2 1.41-.59l7.78-7.78 2.81-2.81c.8-.78.8-2.07 0-2.86zM5.41 20L4 18.59l7.72-7.72 1.47 1.35L5.41 20z\"/>\n",
              "  </svg>\n",
              "      </button>\n",
              "      \n",
              "  <style>\n",
              "    .colab-df-container {\n",
              "      display:flex;\n",
              "      flex-wrap:wrap;\n",
              "      gap: 12px;\n",
              "    }\n",
              "\n",
              "    .colab-df-convert {\n",
              "      background-color: #E8F0FE;\n",
              "      border: none;\n",
              "      border-radius: 50%;\n",
              "      cursor: pointer;\n",
              "      display: none;\n",
              "      fill: #1967D2;\n",
              "      height: 32px;\n",
              "      padding: 0 0 0 0;\n",
              "      width: 32px;\n",
              "    }\n",
              "\n",
              "    .colab-df-convert:hover {\n",
              "      background-color: #E2EBFA;\n",
              "      box-shadow: 0px 1px 2px rgba(60, 64, 67, 0.3), 0px 1px 3px 1px rgba(60, 64, 67, 0.15);\n",
              "      fill: #174EA6;\n",
              "    }\n",
              "\n",
              "    [theme=dark] .colab-df-convert {\n",
              "      background-color: #3B4455;\n",
              "      fill: #D2E3FC;\n",
              "    }\n",
              "\n",
              "    [theme=dark] .colab-df-convert:hover {\n",
              "      background-color: #434B5C;\n",
              "      box-shadow: 0px 1px 3px 1px rgba(0, 0, 0, 0.15);\n",
              "      filter: drop-shadow(0px 1px 2px rgba(0, 0, 0, 0.3));\n",
              "      fill: #FFFFFF;\n",
              "    }\n",
              "  </style>\n",
              "\n",
              "      <script>\n",
              "        const buttonEl =\n",
              "          document.querySelector('#df-6b812222-f16f-4123-b660-30a104a6ae8f button.colab-df-convert');\n",
              "        buttonEl.style.display =\n",
              "          google.colab.kernel.accessAllowed ? 'block' : 'none';\n",
              "\n",
              "        async function convertToInteractive(key) {\n",
              "          const element = document.querySelector('#df-6b812222-f16f-4123-b660-30a104a6ae8f');\n",
              "          const dataTable =\n",
              "            await google.colab.kernel.invokeFunction('convertToInteractive',\n",
              "                                                     [key], {});\n",
              "          if (!dataTable) return;\n",
              "\n",
              "          const docLinkHtml = 'Like what you see? Visit the ' +\n",
              "            '<a target=\"_blank\" href=https://colab.research.google.com/notebooks/data_table.ipynb>data table notebook</a>'\n",
              "            + ' to learn more about interactive tables.';\n",
              "          element.innerHTML = '';\n",
              "          dataTable['output_type'] = 'display_data';\n",
              "          await google.colab.output.renderOutput(dataTable, element);\n",
              "          const docLink = document.createElement('div');\n",
              "          docLink.innerHTML = docLinkHtml;\n",
              "          element.appendChild(docLink);\n",
              "        }\n",
              "      </script>\n",
              "    </div>\n",
              "  </div>\n",
              "  "
            ]
          },
          "metadata": {},
          "execution_count": 5
        }
      ]
    },
    {
      "cell_type": "markdown",
      "source": [
        "# Data analysis"
      ],
      "metadata": {
        "id": "kE-4TZGcee7_"
      }
    },
    {
      "cell_type": "markdown",
      "source": [
        "## Missing data"
      ],
      "metadata": {
        "id": "q-h_nzrBe74d"
      }
    },
    {
      "cell_type": "code",
      "source": [
        "diabetes_df.describe()"
      ],
      "metadata": {
        "colab": {
          "base_uri": "https://localhost:8080/",
          "height": 0
        },
        "id": "UAwoyThu3oqa",
        "outputId": "d9e2f335-5ad2-496d-9380-439527623eb6"
      },
      "execution_count": 6,
      "outputs": [
        {
          "output_type": "execute_result",
          "data": {
            "text/plain": [
              "       Pregnancies     Glucose  BloodPressure  SkinThickness     Insulin  \\\n",
              "count   768.000000  768.000000     768.000000     768.000000  768.000000   \n",
              "mean      3.845052  120.894531      69.105469      20.536458   79.799479   \n",
              "std       3.369578   31.972618      19.355807      15.952218  115.244002   \n",
              "min       0.000000    0.000000       0.000000       0.000000    0.000000   \n",
              "25%       1.000000   99.000000      62.000000       0.000000    0.000000   \n",
              "50%       3.000000  117.000000      72.000000      23.000000   30.500000   \n",
              "75%       6.000000  140.250000      80.000000      32.000000  127.250000   \n",
              "max      17.000000  199.000000     122.000000      99.000000  846.000000   \n",
              "\n",
              "              BMI  DiabetesPedigreeFunction         Age     Outcome  \n",
              "count  768.000000                768.000000  768.000000  768.000000  \n",
              "mean    31.992578                  0.471876   33.240885    0.348958  \n",
              "std      7.884160                  0.331329   11.760232    0.476951  \n",
              "min      0.000000                  0.078000   21.000000    0.000000  \n",
              "25%     27.300000                  0.243750   24.000000    0.000000  \n",
              "50%     32.000000                  0.372500   29.000000    0.000000  \n",
              "75%     36.600000                  0.626250   41.000000    1.000000  \n",
              "max     67.100000                  2.420000   81.000000    1.000000  "
            ],
            "text/html": [
              "\n",
              "  <div id=\"df-c332f696-dd85-4cec-a5e0-ab057ef501f0\">\n",
              "    <div class=\"colab-df-container\">\n",
              "      <div>\n",
              "<style scoped>\n",
              "    .dataframe tbody tr th:only-of-type {\n",
              "        vertical-align: middle;\n",
              "    }\n",
              "\n",
              "    .dataframe tbody tr th {\n",
              "        vertical-align: top;\n",
              "    }\n",
              "\n",
              "    .dataframe thead th {\n",
              "        text-align: right;\n",
              "    }\n",
              "</style>\n",
              "<table border=\"1\" class=\"dataframe\">\n",
              "  <thead>\n",
              "    <tr style=\"text-align: right;\">\n",
              "      <th></th>\n",
              "      <th>Pregnancies</th>\n",
              "      <th>Glucose</th>\n",
              "      <th>BloodPressure</th>\n",
              "      <th>SkinThickness</th>\n",
              "      <th>Insulin</th>\n",
              "      <th>BMI</th>\n",
              "      <th>DiabetesPedigreeFunction</th>\n",
              "      <th>Age</th>\n",
              "      <th>Outcome</th>\n",
              "    </tr>\n",
              "  </thead>\n",
              "  <tbody>\n",
              "    <tr>\n",
              "      <th>count</th>\n",
              "      <td>768.000000</td>\n",
              "      <td>768.000000</td>\n",
              "      <td>768.000000</td>\n",
              "      <td>768.000000</td>\n",
              "      <td>768.000000</td>\n",
              "      <td>768.000000</td>\n",
              "      <td>768.000000</td>\n",
              "      <td>768.000000</td>\n",
              "      <td>768.000000</td>\n",
              "    </tr>\n",
              "    <tr>\n",
              "      <th>mean</th>\n",
              "      <td>3.845052</td>\n",
              "      <td>120.894531</td>\n",
              "      <td>69.105469</td>\n",
              "      <td>20.536458</td>\n",
              "      <td>79.799479</td>\n",
              "      <td>31.992578</td>\n",
              "      <td>0.471876</td>\n",
              "      <td>33.240885</td>\n",
              "      <td>0.348958</td>\n",
              "    </tr>\n",
              "    <tr>\n",
              "      <th>std</th>\n",
              "      <td>3.369578</td>\n",
              "      <td>31.972618</td>\n",
              "      <td>19.355807</td>\n",
              "      <td>15.952218</td>\n",
              "      <td>115.244002</td>\n",
              "      <td>7.884160</td>\n",
              "      <td>0.331329</td>\n",
              "      <td>11.760232</td>\n",
              "      <td>0.476951</td>\n",
              "    </tr>\n",
              "    <tr>\n",
              "      <th>min</th>\n",
              "      <td>0.000000</td>\n",
              "      <td>0.000000</td>\n",
              "      <td>0.000000</td>\n",
              "      <td>0.000000</td>\n",
              "      <td>0.000000</td>\n",
              "      <td>0.000000</td>\n",
              "      <td>0.078000</td>\n",
              "      <td>21.000000</td>\n",
              "      <td>0.000000</td>\n",
              "    </tr>\n",
              "    <tr>\n",
              "      <th>25%</th>\n",
              "      <td>1.000000</td>\n",
              "      <td>99.000000</td>\n",
              "      <td>62.000000</td>\n",
              "      <td>0.000000</td>\n",
              "      <td>0.000000</td>\n",
              "      <td>27.300000</td>\n",
              "      <td>0.243750</td>\n",
              "      <td>24.000000</td>\n",
              "      <td>0.000000</td>\n",
              "    </tr>\n",
              "    <tr>\n",
              "      <th>50%</th>\n",
              "      <td>3.000000</td>\n",
              "      <td>117.000000</td>\n",
              "      <td>72.000000</td>\n",
              "      <td>23.000000</td>\n",
              "      <td>30.500000</td>\n",
              "      <td>32.000000</td>\n",
              "      <td>0.372500</td>\n",
              "      <td>29.000000</td>\n",
              "      <td>0.000000</td>\n",
              "    </tr>\n",
              "    <tr>\n",
              "      <th>75%</th>\n",
              "      <td>6.000000</td>\n",
              "      <td>140.250000</td>\n",
              "      <td>80.000000</td>\n",
              "      <td>32.000000</td>\n",
              "      <td>127.250000</td>\n",
              "      <td>36.600000</td>\n",
              "      <td>0.626250</td>\n",
              "      <td>41.000000</td>\n",
              "      <td>1.000000</td>\n",
              "    </tr>\n",
              "    <tr>\n",
              "      <th>max</th>\n",
              "      <td>17.000000</td>\n",
              "      <td>199.000000</td>\n",
              "      <td>122.000000</td>\n",
              "      <td>99.000000</td>\n",
              "      <td>846.000000</td>\n",
              "      <td>67.100000</td>\n",
              "      <td>2.420000</td>\n",
              "      <td>81.000000</td>\n",
              "      <td>1.000000</td>\n",
              "    </tr>\n",
              "  </tbody>\n",
              "</table>\n",
              "</div>\n",
              "      <button class=\"colab-df-convert\" onclick=\"convertToInteractive('df-c332f696-dd85-4cec-a5e0-ab057ef501f0')\"\n",
              "              title=\"Convert this dataframe to an interactive table.\"\n",
              "              style=\"display:none;\">\n",
              "        \n",
              "  <svg xmlns=\"http://www.w3.org/2000/svg\" height=\"24px\"viewBox=\"0 0 24 24\"\n",
              "       width=\"24px\">\n",
              "    <path d=\"M0 0h24v24H0V0z\" fill=\"none\"/>\n",
              "    <path d=\"M18.56 5.44l.94 2.06.94-2.06 2.06-.94-2.06-.94-.94-2.06-.94 2.06-2.06.94zm-11 1L8.5 8.5l.94-2.06 2.06-.94-2.06-.94L8.5 2.5l-.94 2.06-2.06.94zm10 10l.94 2.06.94-2.06 2.06-.94-2.06-.94-.94-2.06-.94 2.06-2.06.94z\"/><path d=\"M17.41 7.96l-1.37-1.37c-.4-.4-.92-.59-1.43-.59-.52 0-1.04.2-1.43.59L10.3 9.45l-7.72 7.72c-.78.78-.78 2.05 0 2.83L4 21.41c.39.39.9.59 1.41.59.51 0 1.02-.2 1.41-.59l7.78-7.78 2.81-2.81c.8-.78.8-2.07 0-2.86zM5.41 20L4 18.59l7.72-7.72 1.47 1.35L5.41 20z\"/>\n",
              "  </svg>\n",
              "      </button>\n",
              "      \n",
              "  <style>\n",
              "    .colab-df-container {\n",
              "      display:flex;\n",
              "      flex-wrap:wrap;\n",
              "      gap: 12px;\n",
              "    }\n",
              "\n",
              "    .colab-df-convert {\n",
              "      background-color: #E8F0FE;\n",
              "      border: none;\n",
              "      border-radius: 50%;\n",
              "      cursor: pointer;\n",
              "      display: none;\n",
              "      fill: #1967D2;\n",
              "      height: 32px;\n",
              "      padding: 0 0 0 0;\n",
              "      width: 32px;\n",
              "    }\n",
              "\n",
              "    .colab-df-convert:hover {\n",
              "      background-color: #E2EBFA;\n",
              "      box-shadow: 0px 1px 2px rgba(60, 64, 67, 0.3), 0px 1px 3px 1px rgba(60, 64, 67, 0.15);\n",
              "      fill: #174EA6;\n",
              "    }\n",
              "\n",
              "    [theme=dark] .colab-df-convert {\n",
              "      background-color: #3B4455;\n",
              "      fill: #D2E3FC;\n",
              "    }\n",
              "\n",
              "    [theme=dark] .colab-df-convert:hover {\n",
              "      background-color: #434B5C;\n",
              "      box-shadow: 0px 1px 3px 1px rgba(0, 0, 0, 0.15);\n",
              "      filter: drop-shadow(0px 1px 2px rgba(0, 0, 0, 0.3));\n",
              "      fill: #FFFFFF;\n",
              "    }\n",
              "  </style>\n",
              "\n",
              "      <script>\n",
              "        const buttonEl =\n",
              "          document.querySelector('#df-c332f696-dd85-4cec-a5e0-ab057ef501f0 button.colab-df-convert');\n",
              "        buttonEl.style.display =\n",
              "          google.colab.kernel.accessAllowed ? 'block' : 'none';\n",
              "\n",
              "        async function convertToInteractive(key) {\n",
              "          const element = document.querySelector('#df-c332f696-dd85-4cec-a5e0-ab057ef501f0');\n",
              "          const dataTable =\n",
              "            await google.colab.kernel.invokeFunction('convertToInteractive',\n",
              "                                                     [key], {});\n",
              "          if (!dataTable) return;\n",
              "\n",
              "          const docLinkHtml = 'Like what you see? Visit the ' +\n",
              "            '<a target=\"_blank\" href=https://colab.research.google.com/notebooks/data_table.ipynb>data table notebook</a>'\n",
              "            + ' to learn more about interactive tables.';\n",
              "          element.innerHTML = '';\n",
              "          dataTable['output_type'] = 'display_data';\n",
              "          await google.colab.output.renderOutput(dataTable, element);\n",
              "          const docLink = document.createElement('div');\n",
              "          docLink.innerHTML = docLinkHtml;\n",
              "          element.appendChild(docLink);\n",
              "        }\n",
              "      </script>\n",
              "    </div>\n",
              "  </div>\n",
              "  "
            ]
          },
          "metadata": {},
          "execution_count": 6
        }
      ]
    },
    {
      "cell_type": "markdown",
      "source": [
        "All variables have 768 observations, so we don't have to deal with missing data"
      ],
      "metadata": {
        "id": "NFWNDDKi31Is"
      }
    },
    {
      "cell_type": "code",
      "source": [
        "diabetes_df.hist(bins=50, figsize=(20,15), legend=True)\n",
        "plt.show()\n"
      ],
      "metadata": {
        "colab": {
          "base_uri": "https://localhost:8080/",
          "height": 0
        },
        "id": "RjgYWViCI81s",
        "outputId": "9421c409-c04d-4d85-c145-d66f08ecd711"
      },
      "execution_count": 7,
      "outputs": [
        {
          "output_type": "display_data",
          "data": {
            "text/plain": [
              "<Figure size 1440x1080 with 9 Axes>"
            ],
            "image/png": "[encoded data removed]"
          },
          "metadata": {
            "needs_background": "light"
          }
        }
      ]
    },
    {
      "cell_type": "markdown",
      "source": [
        "Previously, no data was found to be missing (as blank values in individual variables), but we can see that there is a problem - the variables Glucose, BloodPressure, SkinThickness, Insulin and BMI should not be 0. Most likely 0 means no data here. In order for these values not to affect our model, we must convert them into values that will not affect our model (the median)."
      ],
      "metadata": {
        "id": "MYn47t4yJoVf"
      }
    },
    {
      "cell_type": "code",
      "source": [
        "def zero_to_median(variable_name):\n",
        "  index = 0\n",
        "  v_median = diabetes_df[variable_name].median()\n",
        "\n",
        "  diabetes_df.loc[diabetes_df[variable_name]==0, variable_name] = v_median\n"
      ],
      "metadata": {
        "id": "uLiGHRhFMKeV"
      },
      "execution_count": 8,
      "outputs": []
    },
    {
      "cell_type": "code",
      "source": [
        "\n",
        "for var in ('Glucose', 'BloodPressure', 'SkinThickness', 'Insulin', 'BMI'):\n",
        "  zero_to_median(var)"
      ],
      "metadata": {
        "id": "mlEawsUkSzNm"
      },
      "execution_count": 9,
      "outputs": []
    },
    {
      "cell_type": "code",
      "source": [
        "diabetes_df.hist(bins=50, figsize=(20,15), legend=True)\n",
        "plt.show()"
      ],
      "metadata": {
        "colab": {
          "base_uri": "https://localhost:8080/",
          "height": 0
        },
        "id": "rpbz-bjDbjYn",
        "outputId": "9bdd958d-af0d-425c-eb57-de7ac7a505d2"
      },
      "execution_count": 10,
      "outputs": [
        {
          "output_type": "display_data",
          "data": {
            "text/plain": [
              "<Figure size 1440x1080 with 9 Axes>"
            ],
            "image/png": "[encoded data removed]"
          },
          "metadata": {
            "needs_background": "light"
          }
        }
      ]
    },
    {
      "cell_type": "markdown",
      "source": [
        "We successfully got rid of the zeros from the selected variables."
      ],
      "metadata": {
        "id": "N_zF8rF3cBGm"
      }
    },
    {
      "cell_type": "markdown",
      "source": [
        "## Imbalanced data"
      ],
      "metadata": {
        "id": "wmIB7ZjXfCJG"
      }
    },
    {
      "cell_type": "code",
      "source": [
        "print(diabetes_df['Outcome'].value_counts())"
      ],
      "metadata": {
        "colab": {
          "base_uri": "https://localhost:8080/"
        },
        "id": "foo7KpBsoxMF",
        "outputId": "f16fad92-fde9-4d89-ce13-02cd7441a855"
      },
      "execution_count": 11,
      "outputs": [
        {
          "output_type": "stream",
          "name": "stdout",
          "text": [
            "0    500\n",
            "1    268\n",
            "Name: Outcome, dtype: int64\n"
          ]
        }
      ]
    },
    {
      "cell_type": "markdown",
      "source": [
        "Class 0 ('not has diabetes') is larger than class 1 ('has diabetes'). It can lead our classifier to get biased towards the prediction. We can oversample the minority class ('has diabetes') using replacement. This technique is called oversampling."
      ],
      "metadata": {
        "id": "ouw3Toz7o5M9"
      }
    },
    {
      "cell_type": "code",
      "source": [
        "from imblearn.over_sampling import RandomOverSampler"
      ],
      "metadata": {
        "id": "9FcjLAbupQSa"
      },
      "execution_count": 12,
      "outputs": []
    },
    {
      "cell_type": "code",
      "source": [
        "diabetes_labels = diabetes_df['Outcome']\n",
        "diabetes = diabetes_df.drop('Outcome', axis=1)"
      ],
      "metadata": {
        "id": "-dPMcnEMpZKm"
      },
      "execution_count": 13,
      "outputs": []
    },
    {
      "cell_type": "code",
      "source": [
        "over_sampler = RandomOverSampler()\n",
        "x, y = over_sampler.fit_resample(diabetes, diabetes_labels)\n"
      ],
      "metadata": {
        "id": "AextdnTeq652"
      },
      "execution_count": 14,
      "outputs": []
    },
    {
      "cell_type": "code",
      "source": [
        "y.value_counts()"
      ],
      "metadata": {
        "colab": {
          "base_uri": "https://localhost:8080/"
        },
        "id": "G_H-aQgZq69b",
        "outputId": "bcceb311-91dd-4f8d-dfde-3a7a424a7fc3"
      },
      "execution_count": 15,
      "outputs": [
        {
          "output_type": "execute_result",
          "data": {
            "text/plain": [
              "1    500\n",
              "0    500\n",
              "Name: Outcome, dtype: int64"
            ]
          },
          "metadata": {},
          "execution_count": 15
        }
      ]
    },
    {
      "cell_type": "markdown",
      "source": [
        "Both classes have a similar number of records in the dataset, so we can assume that the classifier will give equal importance to both classes."
      ],
      "metadata": {
        "id": "3HRokHUEzVCC"
      }
    },
    {
      "cell_type": "markdown",
      "source": [
        "# Train-test split\n",
        "We use a stratified division and the size of the test sample = 10%\n"
      ],
      "metadata": {
        "id": "b90be52vzvK2"
      }
    },
    {
      "cell_type": "code",
      "source": [
        "from pandas.core.common import random_state\n",
        "\n",
        "sss = StratifiedShuffleSplit(n_splits = 1, test_size=0.1, random_state=42)\n",
        "\n",
        "for train_index, test_index in sss.split(x, y):\n",
        "  x_train, x_test = x.loc[train_index], x.loc[test_index]\n",
        "  y_train, y_test = y.loc[train_index], y.loc[test_index]\n",
        "\n"
      ],
      "metadata": {
        "id": "CxFdyN9Qz2Tp"
      },
      "execution_count": 16,
      "outputs": []
    },
    {
      "cell_type": "code",
      "source": [
        "print(y_train.value_counts())\n",
        "print(y_test.value_counts())\n"
      ],
      "metadata": {
        "colab": {
          "base_uri": "https://localhost:8080/"
        },
        "id": "gvCifvcR3-hv",
        "outputId": "7b06571b-e622-42ab-b230-e2f54a7250f7"
      },
      "execution_count": 17,
      "outputs": [
        {
          "output_type": "stream",
          "name": "stdout",
          "text": [
            "0    450\n",
            "1    450\n",
            "Name: Outcome, dtype: int64\n",
            "1    50\n",
            "0    50\n",
            "Name: Outcome, dtype: int64\n"
          ]
        }
      ]
    },
    {
      "cell_type": "markdown",
      "source": [
        "StratifiedShuffleSplit returned train and test subsets that have equal proportions of both classes in dependent variable."
      ],
      "metadata": {
        "id": "7oIDSnVy66HX"
      }
    },
    {
      "cell_type": "markdown",
      "source": [
        "# Building models (LinearSVC, KNeighborsClassifier oraz SVC)"
      ],
      "metadata": {
        "id": "yAHqK8iqtXWy"
      }
    },
    {
      "cell_type": "markdown",
      "source": [
        "Oversampled, non-standardized, no feature engineering data"
      ],
      "metadata": {
        "id": "D1NaYyqYxWOC"
      }
    },
    {
      "cell_type": "code",
      "source": [
        "from sklearn.svm import LinearSVC\n",
        "from sklearn.pipeline import make_pipeline\n",
        "from sklearn.preprocessing import StandardScaler\n",
        "from sklearn.datasets import make_classification\n",
        "from sklearn.model_selection import cross_val_score"
      ],
      "metadata": {
        "id": "y1VhY0GOtd9u"
      },
      "execution_count": 18,
      "outputs": []
    },
    {
      "cell_type": "code",
      "source": [
        "clf = LinearSVC(dual=False)\n",
        "\n",
        "clf_scores = cross_val_score(clf, x_train, y_train, cv=5)\n",
        "print(clf_scores)\n",
        "print('Mean acc: {}'.format(clf_scores.mean()))"
      ],
      "metadata": {
        "colab": {
          "base_uri": "https://localhost:8080/"
        },
        "id": "Mr3z5yAgQ7kv",
        "outputId": "9db45dac-b755-46ed-fdc2-be34512fd8f4"
      },
      "execution_count": 19,
      "outputs": [
        {
          "output_type": "stream",
          "name": "stdout",
          "text": [
            "[0.76111111 0.76666667 0.72777778 0.77222222 0.7       ]\n",
            "Mean acc: 0.7455555555555555\n"
          ]
        }
      ]
    },
    {
      "cell_type": "code",
      "source": [
        "md('We get mean acc of {}%. Now we will standardize variables and see if the average accuracy of the model increases.'.format(100*round(clf_scores.mean(), 3)))"
      ],
      "metadata": {
        "colab": {
          "base_uri": "https://localhost:8080/",
          "height": 0
        },
        "id": "unm0CpWfsV-_",
        "outputId": "9f89b730-56bc-4be2-e6cc-6b09374705b6"
      },
      "execution_count": 20,
      "outputs": [
        {
          "output_type": "execute_result",
          "data": {
            "text/plain": [
              "<IPython.core.display.Markdown object>"
            ],
            "text/markdown": "We get mean acc of 74.6%. Now we will standardize variables and see if the average accuracy of the model increases."
          },
          "metadata": {},
          "execution_count": 20
        }
      ]
    },
    {
      "cell_type": "markdown",
      "source": [
        "Standardization of variables:"
      ],
      "metadata": {
        "id": "hqgyVunp_P-g"
      }
    },
    {
      "cell_type": "code",
      "source": [
        "col = x_train.columns\n",
        "std = StandardScaler()\n",
        "x_train_std = std.fit_transform(x_train)\n",
        "x_train_std = pd.DataFrame(data = x_train_std, columns = col)"
      ],
      "metadata": {
        "id": "HTQUy5OM7xCK"
      },
      "execution_count": 21,
      "outputs": []
    },
    {
      "cell_type": "markdown",
      "source": [
        "and again LinearSVC but with standardized input"
      ],
      "metadata": {
        "id": "qbLvj-tbNDUa"
      }
    },
    {
      "cell_type": "code",
      "source": [
        "clf_std_scores = cross_val_score(clf, x_train_std, y_train, cv=5)\n",
        "print(clf_std_scores)\n",
        "print('Mean acc: {}'.format(clf_std_scores.mean()))"
      ],
      "metadata": {
        "colab": {
          "base_uri": "https://localhost:8080/"
        },
        "id": "0Lu0LYnbBWqI",
        "outputId": "b2d38c45-d082-48a6-dc65-d4bdc4348fa0"
      },
      "execution_count": 22,
      "outputs": [
        {
          "output_type": "stream",
          "name": "stdout",
          "text": [
            "[0.75555556 0.76111111 0.71111111 0.77777778 0.70555556]\n",
            "Mean acc: 0.7422222222222222\n"
          ]
        }
      ]
    },
    {
      "cell_type": "markdown",
      "source": [
        "Mean acc did improve after the variable standardization"
      ],
      "metadata": {
        "id": "yF8_7QIGGW4Z"
      }
    },
    {
      "cell_type": "markdown",
      "source": [
        "Let's try another model."
      ],
      "metadata": {
        "id": "KNUpFYXvGhHz"
      }
    },
    {
      "cell_type": "code",
      "source": [
        "from sklearn.neighbors import KNeighborsClassifier\n",
        "\n",
        "knc = KNeighborsClassifier()\n",
        "\n",
        "knc_score = cross_val_score(knc, x_train, y_train)\n",
        "print('nonstandarized data: \\ncross-validation scores: {},\\nmean acc = {}\\n'.format(knc_score, knc_score.mean()))\n",
        "\n",
        "knc_std_score = cross_val_score(knc, x_train_std, y_train)\n",
        "print('standarized data: \\ncross-validation scores: {},\\nmean acc = {}'.format(knc_std_score, knc_std_score.mean()))"
      ],
      "metadata": {
        "colab": {
          "base_uri": "https://localhost:8080/"
        },
        "id": "QuYSkezEHBs4",
        "outputId": "5d99cc10-2a54-4e59-e43b-c5bf2a983ade"
      },
      "execution_count": 23,
      "outputs": [
        {
          "output_type": "stream",
          "name": "stdout",
          "text": [
            "nonstandarized data: \n",
            "cross-validation scores: [0.76666667 0.71111111 0.73888889 0.73888889 0.63333333],\n",
            "mean acc = 0.7177777777777778\n",
            "\n",
            "standarized data: \n",
            "cross-validation scores: [0.76666667 0.70555556 0.73333333 0.77777778 0.69444444],\n",
            "mean acc = 0.7355555555555556\n"
          ]
        }
      ]
    },
    {
      "cell_type": "markdown",
      "source": [
        "There is an improvement in the accuracy of the prediction both after changing the model and standardization of the variables."
      ],
      "metadata": {
        "id": "N5OE4QIOH8sA"
      }
    },
    {
      "cell_type": "markdown",
      "source": [
        "Another model: SVC"
      ],
      "metadata": {
        "id": "_7XFN31NIFqw"
      }
    },
    {
      "cell_type": "code",
      "source": [
        "from sklearn.svm import SVC\n",
        "\n",
        "clf1 = SVC()\n",
        "\n",
        "clf1_score = cross_val_score(clf1, x_train, y_train)\n",
        "print('nonstandarized data:\\ncross-validation scores: {},\\nmean acc = {}\\n'.format(clf1_score, clf1_score.mean()))\n",
        "\n",
        "clf1_std_score = cross_val_score(clf1, x_train_std, y_train)\n",
        "print('standarized data:\\ncross-validation scores: {},\\nmean acc = {}\\n'.format(clf1_std_score, clf1_std_score.mean()))"
      ],
      "metadata": {
        "colab": {
          "base_uri": "https://localhost:8080/"
        },
        "id": "fUdiheNTJYHT",
        "outputId": "c329efe4-fe31-46e4-d1e3-d7f5ef2bc23e"
      },
      "execution_count": 24,
      "outputs": [
        {
          "output_type": "stream",
          "name": "stdout",
          "text": [
            "nonstandarized data:\n",
            "cross-validation scores: [0.71666667 0.75555556 0.73888889 0.76666667 0.70555556],\n",
            "mean acc = 0.7366666666666667\n",
            "\n",
            "standarized data:\n",
            "cross-validation scores: [0.8        0.73888889 0.72777778 0.79444444 0.76666667],\n",
            "mean acc = 0.7655555555555555\n",
            "\n"
          ]
        }
      ]
    },
    {
      "cell_type": "markdown",
      "source": [
        "In case of SVC - once again, there is an improvement in the accuracy of the prediction both after changing the model and standardization of the variables."
      ],
      "metadata": {
        "id": "q_uFTXVILiLA"
      }
    },
    {
      "cell_type": "markdown",
      "source": [
        "# Feature engineering\n"
      ],
      "metadata": {
        "id": "yt4rq5vXSMaI"
      }
    },
    {
      "cell_type": "markdown",
      "source": [
        "We test the impact on the model after feature engineering.\n",
        "New variables:\n",
        "- Pregnancies -> HasBeenPregnant (whether patient was pregnant instead of how many times she was pregnant)\n",
        "- BMI -> DoesBMIOk (whether BMI is normal)"
      ],
      "metadata": {
        "id": "rGb7h9gdAgA4"
      }
    },
    {
      "cell_type": "code",
      "source": [
        "def BMI_categorization(processing_set):\n",
        "  processing_set['DoesBMIOk'] = np.zeros(processing_set.shape[0])\n",
        "  processing_set.loc[((processing_set['BMI']>= 18.5) * (processing_set['BMI'] <=25)), 'DoesBMIOk'] = 1"
      ],
      "metadata": {
        "id": "1dRVHO5gR2n2"
      },
      "execution_count": 25,
      "outputs": []
    },
    {
      "cell_type": "code",
      "source": [
        "def Pregnancies_categorization(processing_set):\n",
        "  processing_set['HasBeenPregnant'] = np.zeros(processing_set.shape[0])\n",
        "  processing_set.loc[processing_set['Pregnancies']>0, 'HasBeenPregnant'] = 1"
      ],
      "metadata": {
        "id": "mMWkxgf3SA3Q"
      },
      "execution_count": 26,
      "outputs": []
    },
    {
      "cell_type": "code",
      "source": [
        "BMI_categorization(x_train)\n",
        "Pregnancies_categorization(x_train)\n",
        "\n",
        "x_train_new = x_train.drop(labels=['Pregnancies', 'BMI'], axis=1 )"
      ],
      "metadata": {
        "id": "g1qQWzv7TyuK"
      },
      "execution_count": 27,
      "outputs": []
    },
    {
      "cell_type": "markdown",
      "source": [
        "# Building models based on data with new variables\n"
      ],
      "metadata": {
        "id": "MYmjAla2cmMW"
      }
    },
    {
      "cell_type": "markdown",
      "source": [
        "## Standardization and encoding data with new variables"
      ],
      "metadata": {
        "id": "aWaU-UQcczur"
      }
    },
    {
      "cell_type": "code",
      "source": [
        "# Index is reseting after standardization, so when concating dfs with numbers and categories\n",
        "# there is a problem (different indexes). To avoid, we reset index before spliting and standardization.\n",
        "x_train_new = x_train_new.reset_index().drop('index', axis=1)\n",
        "\n",
        "x_train_new_num = x_train_new[['Glucose', 'BloodPressure', 'SkinThickness', 'Insulin', 'DiabetesPedigreeFunction', 'Age']]\n",
        "x_train_new_cat = x_train_new[['DoesBMIOk', 'HasBeenPregnant']]"
      ],
      "metadata": {
        "id": "y2uSTrZ5L5sl"
      },
      "execution_count": 28,
      "outputs": []
    },
    {
      "cell_type": "code",
      "source": [
        "# standardization of numerical variables\n",
        "col = x_train_new_num.columns\n",
        "std = StandardScaler()\n",
        "x_train_new_num_std = std.fit_transform(x_train_new_num)\n",
        "x_train_new_num_std = pd.DataFrame(data = x_train_new_num_std, columns = col)"
      ],
      "metadata": {
        "id": "_KVLJIUOP4h2"
      },
      "execution_count": 29,
      "outputs": []
    },
    {
      "cell_type": "code",
      "source": [
        "# encoding of categorical variables\n",
        "from sklearn.preprocessing import OneHotEncoder\n",
        "\n",
        "enc = OneHotEncoder(sparse=False)\n",
        "x_train_new_cat_encoded = enc.fit_transform(x_train_new_cat)\n",
        "x_train_new_cat_encoded = pd.DataFrame(data = x_train_new_cat_encoded, columns= ['DoesBMIOk(N)', 'DoesBMIOk(Y)', 'HasBeenPregnant(N)', 'HasBeenPregnant(Y)'])"
      ],
      "metadata": {
        "id": "OWCflnPKP4v3"
      },
      "execution_count": 30,
      "outputs": []
    },
    {
      "cell_type": "code",
      "source": [
        "# concating numerical and categorical variables into one df\n",
        "x_train_new_std = pd.concat((x_train_new_num_std, x_train_new_cat_encoded), axis=1)"
      ],
      "metadata": {
        "id": "m296AwybZrxO"
      },
      "execution_count": 31,
      "outputs": []
    },
    {
      "cell_type": "markdown",
      "source": [
        "## Building models"
      ],
      "metadata": {
        "id": "AEQa_MF6c52I"
      }
    },
    {
      "cell_type": "code",
      "source": [
        "print('LinearSVC')\n",
        "clf = LinearSVC(dual=False)\n",
        "\n",
        "clf_score = cross_val_score(clf, x_train_new, y_train)\n",
        "print('nonstandarized data: \\nmean acc =', clf_score.mean())\n",
        "\n",
        "clf_std_score = cross_val_score(clf, x_train_new_std, y_train)\n",
        "print('standarized data: \\nmean acc =', clf_std_score.mean())\n",
        "\n",
        "\n",
        "print('\\nKNeighborsClassifier')\n",
        "knc = KNeighborsClassifier()\n",
        "\n",
        "knc_score = cross_val_score(knc, x_train_new, y_train)\n",
        "print('nonstandarized data: \\nmean acc =', knc_score.mean())\n",
        "\n",
        "knc_std_score = cross_val_score(knc, x_train_new_std, y_train)\n",
        "print('standarized data: \\nmean acc =', knc_std_score.mean())\n",
        "\n",
        "\n",
        "print('\\nSVC')\n",
        "clf1 = SVC()\n",
        "\n",
        "clf1_score = cross_val_score(clf1, x_train_new, y_train)\n",
        "print('nonstandarized data: \\nmean acc =', clf1_score.mean())\n",
        "\n",
        "clf1_std_score = cross_val_score(clf1, x_train_new_std, y_train)\n",
        "print('standarized data: \\nmean acc =', clf1_std_score.mean())"
      ],
      "metadata": {
        "colab": {
          "base_uri": "https://localhost:8080/"
        },
        "id": "u2_hZ_HvSaYc",
        "outputId": "f73c5aa6-8123-4199-d726-e1d2f28178ff"
      },
      "execution_count": 32,
      "outputs": [
        {
          "output_type": "stream",
          "name": "stdout",
          "text": [
            "LinearSVC\n",
            "nonstandarized data: \n",
            "mean acc = 0.7444444444444445\n",
            "standarized data: \n",
            "mean acc = 0.7444444444444445\n",
            "\n",
            "KNeighborsClassifier\n",
            "nonstandarized data: \n",
            "mean acc = 0.7233333333333334\n",
            "standarized data: \n",
            "mean acc = 0.7444444444444445\n",
            "\n",
            "SVC\n",
            "nonstandarized data: \n",
            "mean acc = 0.7244444444444446\n",
            "standarized data: \n",
            "mean acc = 0.7666666666666666\n"
          ]
        }
      ]
    },
    {
      "cell_type": "markdown",
      "source": [
        "Feature engineering did not bring the expected effect - the new variables did not improve mean acc. \n",
        "Now we try to encode our categorical values and see if this improve mean acc.\n",
        "\n",
        "\n",
        "Edit: encoding of our variables did not bring any significant improvement in the accuracy of the models. It seems that for binary variables encoding has no effect or the impact is minimal (sometimes in plus and sometimes in minus)."
      ],
      "metadata": {
        "id": "Sj3NxjFtcLpN"
      }
    },
    {
      "cell_type": "markdown",
      "source": [
        "## Testing model on test subset"
      ],
      "metadata": {
        "id": "U8ZRVDTUPt1H"
      }
    },
    {
      "cell_type": "markdown",
      "source": [
        "Now we know that best acc has nonlinear SVC model with data after standardization but without feature engineering. Let's test it with test data."
      ],
      "metadata": {
        "id": "EHzJea2NtFG1"
      }
    },
    {
      "cell_type": "markdown",
      "source": [
        "First we have to prepare data from test subset:"
      ],
      "metadata": {
        "id": "2kGI-kj7tExA"
      }
    },
    {
      "cell_type": "markdown",
      "source": [
        "- standardization"
      ],
      "metadata": {
        "id": "pmFPMW3fvZK4"
      }
    },
    {
      "cell_type": "code",
      "source": [
        "col = x_test.columns\n",
        "std = StandardScaler()\n",
        "std.fit(x_train.drop(['DoesBMIOk', 'HasBeenPregnant'], axis=1)) #!!!\n",
        "x_test_std = std.transform(x_test)\n",
        "x_test_std = pd.DataFrame(data = x_test_std, columns = col)"
      ],
      "metadata": {
        "id": "nUiTWFSXtDpJ"
      },
      "execution_count": 33,
      "outputs": []
    },
    {
      "cell_type": "code",
      "source": [
        "clf1.fit(x_train_std, y_train)\n",
        "print('mean acc on training data: {}'.format(100*round(clf1.score(x_train_std, y_train), 3)))\n",
        "print('mean acc on test data: {}'.format(100*round(clf1.score(x_test_std, y_test), 3)))"
      ],
      "metadata": {
        "colab": {
          "base_uri": "https://localhost:8080/"
        },
        "id": "Q4TUVMnawS6D",
        "outputId": "78097560-a83a-48df-da89-3bd120f4b98a"
      },
      "execution_count": 34,
      "outputs": [
        {
          "output_type": "stream",
          "name": "stdout",
          "text": [
            "mean acc on training data: 84.0\n",
            "mean acc on test data: 79.0\n"
          ]
        }
      ]
    },
    {
      "cell_type": "markdown",
      "source": [
        "The acc for non-linear SVC is greater than it was when calculating acc with cross validation. This is due to the fact that during the cross validation we divided the training set into several smaller subsets (5 subsets) and used them several times (5 times) to achieve the average value for mean acc.\n",
        "\n",
        "What we want to know the most is how the model is performing on the test data. Mean acc for test data is obviously lower than for training data. Now we can go completely beyond the scikit-learn package and check if the XGBoost package will help us get even better model accuracy."
      ],
      "metadata": {
        "id": "Oy5iik7HwKBc"
      }
    },
    {
      "cell_type": "markdown",
      "source": [
        "# Building model (XGBClassifier from XGBoost)"
      ],
      "metadata": {
        "id": "xQM75k0NftZD"
      }
    },
    {
      "cell_type": "markdown",
      "source": [
        "In addition to basic data cleaning operations, XGBoost has several requirements to reach its top performance:\n",
        "- Numeric features should be scaled (we drop x_train and stick only to x_train_std),\n",
        "- Categorical features should be encoded (done before)."
      ],
      "metadata": {
        "id": "IiTW-q14fMVo"
      }
    },
    {
      "cell_type": "code",
      "source": [
        "import xgboost as xgb"
      ],
      "metadata": {
        "id": "u7yST6Wogepr"
      },
      "execution_count": 35,
      "outputs": []
    },
    {
      "cell_type": "code",
      "source": [
        "xgb_cl = xgb.XGBClassifier()\n",
        "\n",
        "xgb_cl.fit(x_train_std, y_train)\n"
      ],
      "metadata": {
        "colab": {
          "base_uri": "https://localhost:8080/"
        },
        "id": "A2OfK4PggxD9",
        "outputId": "1420a983-e5bf-4b13-f186-f0a9dcb4d6ba"
      },
      "execution_count": 36,
      "outputs": [
        {
          "output_type": "execute_result",
          "data": {
            "text/plain": [
              "XGBClassifier()"
            ]
          },
          "metadata": {},
          "execution_count": 36
        }
      ]
    },
    {
      "cell_type": "code",
      "source": [
        "xgb_cl.score(x_train_std, y_train)"
      ],
      "metadata": {
        "colab": {
          "base_uri": "https://localhost:8080/"
        },
        "id": "VfvV0laKhUW5",
        "outputId": "6e0c8110-0969-4c2d-be8a-e4193bf9fff9"
      },
      "execution_count": 37,
      "outputs": [
        {
          "output_type": "execute_result",
          "data": {
            "text/plain": [
              "0.8822222222222222"
            ]
          },
          "metadata": {},
          "execution_count": 37
        }
      ]
    },
    {
      "cell_type": "markdown",
      "source": [
        "Mean acc significantly higher than the best model results from the scikit-learn package\n",
        "\n",
        "We move on to the tuning of the model's hyperparameters. We automate the search for the best values using GridSearchCV from the Scikit-learn library."
      ],
      "metadata": {
        "id": "FJq6mmRRjUMm"
      }
    },
    {
      "cell_type": "code",
      "source": [
        "# first we have to specify hyperparmeters whose combinations we want to test\n",
        "param_grid = {\n",
        "    \"max_depth\": [4, 5, 7],\n",
        "    \"learning_rate\": [0.01, 0.02, 0.05],\n",
        "    \"gamma\": [0, 0.25, 0.5],\n",
        "    \"reg_lambda\": [0, 1],\n",
        "    \"scale_pos_weight\": [0, 1, 3, 5],\n",
        "    \"subsample\": [0.8, 0.9],\n",
        "    \"colsample_bytree\": [0.5]\n",
        "}"
      ],
      "metadata": {
        "id": "_FLT-730kUZL"
      },
      "execution_count": 38,
      "outputs": []
    },
    {
      "cell_type": "code",
      "source": [
        "from sklearn.model_selection import GridSearchCV\n",
        "\n",
        "grid_cv = GridSearchCV(xgb_cl, param_grid, n_jobs=-1, cv=5, scoring=\"precision\")\n",
        "_ = grid_cv.fit(x_train_std, y_train)"
      ],
      "metadata": {
        "id": "w4lp5Kk-k1BQ"
      },
      "execution_count": 39,
      "outputs": []
    },
    {
      "cell_type": "markdown",
      "source": [
        "Let's check the best combination of hyperparameters provided by GridSearchCV..."
      ],
      "metadata": {
        "id": "-0RFZ49U1PIk"
      }
    },
    {
      "cell_type": "code",
      "source": [
        "best_params = grid_cv.best_params_\n",
        "best_params"
      ],
      "metadata": {
        "colab": {
          "base_uri": "https://localhost:8080/"
        },
        "id": "FUkNGxsglqwA",
        "outputId": "e5b6a6ed-c259-4d6b-fae8-b99682f7afdb"
      },
      "execution_count": 40,
      "outputs": [
        {
          "output_type": "execute_result",
          "data": {
            "text/plain": [
              "{'colsample_bytree': 0.5,\n",
              " 'gamma': 0.5,\n",
              " 'learning_rate': 0.05,\n",
              " 'max_depth': 7,\n",
              " 'reg_lambda': 0,\n",
              " 'scale_pos_weight': 1,\n",
              " 'subsample': 0.9}"
            ]
          },
          "metadata": {},
          "execution_count": 40
        }
      ]
    },
    {
      "cell_type": "markdown",
      "source": [
        "...and mean acc for a model with given hyperparameters:"
      ],
      "metadata": {
        "id": "fCT6wuUj6TUH"
      }
    },
    {
      "cell_type": "code",
      "source": [
        "grid_cv.best_score_"
      ],
      "metadata": {
        "colab": {
          "base_uri": "https://localhost:8080/"
        },
        "id": "38jYuNDC6WiQ",
        "outputId": "d9513e64-7d9d-4218-c1e9-f248256c6b9e"
      },
      "execution_count": 41,
      "outputs": [
        {
          "output_type": "execute_result",
          "data": {
            "text/plain": [
              "0.8064700078255248"
            ]
          },
          "metadata": {},
          "execution_count": 41
        }
      ]
    },
    {
      "cell_type": "markdown",
      "source": [
        "We got mean acc of ~81%, but a few of the parameters have reached their margins, let's see what happens when we set a new, extended grid param for this hyperparameters.\n",
        "\n",
        "colsample_bytree, scale_pos_weight and reg_lambda - leave unchanged (reg_lambda cannot take a value lower than 0)."
      ],
      "metadata": {
        "id": "0BYCdAQs-uiu"
      }
    },
    {
      "cell_type": "code",
      "source": [
        "param_grid_1 = {\n",
        "    \"max_depth\": [7, 10, 15],\n",
        "    \"learning_rate\": [0.05, 0.1, 0.2],\n",
        "    \"gamma\": [0.5, 0.75, 1],\n",
        "    \"reg_lambda\": [0],\n",
        "    \"scale_pos_weight\": [1],\n",
        "    \"subsample\": [0.7, 0.8, 1],\n",
        "    \"colsample_bytree\": [0.5]\n",
        "}"
      ],
      "metadata": {
        "id": "gyWfXmKX-s2z"
      },
      "execution_count": 42,
      "outputs": []
    },
    {
      "cell_type": "code",
      "source": [
        "grid_cv_1 = GridSearchCV(xgb_cl, param_grid_1, n_jobs=-1, cv=5, scoring=\"precision\")\n",
        "_ = grid_cv_1.fit(x_train_std, y_train)"
      ],
      "metadata": {
        "id": "QtfuvYo6_1PK"
      },
      "execution_count": 43,
      "outputs": []
    },
    {
      "cell_type": "code",
      "source": [
        "best_params_1 = grid_cv_1.best_params_\n",
        "best_params_1"
      ],
      "metadata": {
        "colab": {
          "base_uri": "https://localhost:8080/"
        },
        "id": "FmMbn7lbAAXZ",
        "outputId": "bbab30cc-fc77-47ee-b6b2-c82e0b332912"
      },
      "execution_count": 44,
      "outputs": [
        {
          "output_type": "execute_result",
          "data": {
            "text/plain": [
              "{'colsample_bytree': 0.5,\n",
              " 'gamma': 1,\n",
              " 'learning_rate': 0.2,\n",
              " 'max_depth': 10,\n",
              " 'reg_lambda': 0,\n",
              " 'scale_pos_weight': 1,\n",
              " 'subsample': 1}"
            ]
          },
          "metadata": {},
          "execution_count": 44
        }
      ]
    },
    {
      "cell_type": "code",
      "source": [
        "grid_cv_1.best_score_"
      ],
      "metadata": {
        "colab": {
          "base_uri": "https://localhost:8080/"
        },
        "id": "y4-CJb7EAHSF",
        "outputId": "c1812e88-ffa8-48ac-d5e5-b5e1ef76aad7"
      },
      "execution_count": 45,
      "outputs": [
        {
          "output_type": "execute_result",
          "data": {
            "text/plain": [
              "0.8283323304542896"
            ]
          },
          "metadata": {},
          "execution_count": 45
        }
      ]
    },
    {
      "cell_type": "markdown",
      "source": [
        "Subsample cannot have a value greater than 1, so we managed to establish the value of hyperparameters and our model achieved mean acc at the level of ~ 83%"
      ],
      "metadata": {
        "id": "-da4ukHK6jmz"
      }
    },
    {
      "cell_type": "markdown",
      "source": [
        "It's time to test the model on the test sample, but first the independent variables should be standardized (NOTE! Fit on the training sample, and then transform on the test sample)"
      ],
      "metadata": {
        "id": "Ct7DP0wsmeUn"
      }
    },
    {
      "cell_type": "code",
      "source": [
        "# fitting the model with the best hyper parameters to the training data\n",
        "xgb_cl_best = xgb.XGBClassifier(**grid_cv.best_params_)\n",
        "\n",
        "_ = xgb_cl_best.fit(x_train_std, y_train)\n",
        " \n",
        "xgb_cl_best_scores = cross_val_score(xgb_cl_best, x_train_std, y_train)\n",
        "print('xgb_cl_best_score (CV):', xgb_cl_best_scores.mean())\n",
        "\n",
        "_ = xgb_cl_best.fit(x_train_std, y_train)\n",
        "print('xgb_cl_best_score: ',xgb_cl_best.score(x_train_std, y_train))"
      ],
      "metadata": {
        "colab": {
          "base_uri": "https://localhost:8080/"
        },
        "id": "cqSRzOGKOQ_F",
        "outputId": "3f13aa60-e2fe-4434-ccf9-1741a6e161fd"
      },
      "execution_count": 46,
      "outputs": [
        {
          "output_type": "stream",
          "name": "stdout",
          "text": [
            "xgb_cl_best_score (CV): 0.8211111111111112\n",
            "xgb_cl_best_score:  0.9888888888888889\n"
          ]
        }
      ]
    },
    {
      "cell_type": "markdown",
      "source": [
        "High score for the training sample without cross-validation, does it mean that we are dealing with overfitting?"
      ],
      "metadata": {
        "id": "HzeuzceLSVFV"
      }
    },
    {
      "cell_type": "code",
      "source": [
        "xgb_cl_best.score(x_test_std, y_test)"
      ],
      "metadata": {
        "colab": {
          "base_uri": "https://localhost:8080/"
        },
        "id": "lQWW4I4bGsnw",
        "outputId": "b279256e-729b-4564-db46-249ce97aa36e"
      },
      "execution_count": 47,
      "outputs": [
        {
          "output_type": "execute_result",
          "data": {
            "text/plain": [
              "0.87"
            ]
          },
          "metadata": {},
          "execution_count": 47
        }
      ]
    },
    {
      "cell_type": "markdown",
      "source": [
        "The model generalizes well for the test sample, everything looks ok. Mean acc is much higher than the top models from Scikit Learn.\n",
        "\n",
        "The next step - application of the machine learning model (with Pytorch or Tensorflow).\n",
        "\n",
        "Stay tuned!"
      ],
      "metadata": {
        "id": "-q22Hl3mTVKn"
      }
    }
  ]
}